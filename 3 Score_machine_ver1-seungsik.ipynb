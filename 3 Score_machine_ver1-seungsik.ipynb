{
 "cells": [
  {
   "cell_type": "code",
   "execution_count": 1,
   "metadata": {},
   "outputs": [],
   "source": [
    "import pymysql\n",
    "import pandas as pd\n",
    "import numpy as np\n",
    "\n",
    "# mysql Connection\n",
    "conn = pymysql.connect(host = '192.168.101.106',user = 'root',password = '1111',db = 'asiancup',charset = 'utf8')\n",
    "\n",
    "#Connection으로 부터 cursor생성 - 테이터 베이스 빈줄에 커서가 깜빡 거리고 있는 것이다.\n",
    "curs = conn.cursor()\n",
    " \n",
    "# SQL 문장\n",
    "# 2011년도\n",
    "sql1 = 'select * from nations2011'\n",
    "curs.execute(sql1) # 실행문 - 결과는 데이터가 몇개 있는지 알려준다.\n",
    "rows1 = curs.fetchall()\n",
    "\n",
    "# 2015년도\n",
    "sql2 = 'select * from nations2015'\n",
    "curs.execute(sql2) # 실행문 - 결과는 데이터가 몇개 있는지 알려준다.\n",
    "rows2 = curs.fetchall()"
   ]
  },
  {
   "cell_type": "code",
   "execution_count": 2,
   "metadata": {
    "scrolled": true
   },
   "outputs": [
    {
     "data": {
      "text/html": [
       "<div>\n",
       "<style scoped>\n",
       "    .dataframe tbody tr th:only-of-type {\n",
       "        vertical-align: middle;\n",
       "    }\n",
       "\n",
       "    .dataframe tbody tr th {\n",
       "        vertical-align: top;\n",
       "    }\n",
       "\n",
       "    .dataframe thead th {\n",
       "        text-align: right;\n",
       "    }\n",
       "</style>\n",
       "<table border=\"1\" class=\"dataframe\">\n",
       "  <thead>\n",
       "    <tr style=\"text-align: right;\">\n",
       "      <th></th>\n",
       "      <th>0</th>\n",
       "      <th>1</th>\n",
       "      <th>2</th>\n",
       "      <th>3</th>\n",
       "      <th>4</th>\n",
       "      <th>5</th>\n",
       "      <th>6</th>\n",
       "      <th>7</th>\n",
       "      <th>8</th>\n",
       "      <th>9</th>\n",
       "    </tr>\n",
       "  </thead>\n",
       "  <tbody>\n",
       "    <tr>\n",
       "      <th>0</th>\n",
       "      <td>1</td>\n",
       "      <td>['16-Jan-11', '19:15']</td>\n",
       "      <td>카타르</td>\n",
       "      <td>6</td>\n",
       "      <td>23</td>\n",
       "      <td>43</td>\n",
       "      <td>4</td>\n",
       "      <td>24</td>\n",
       "      <td>92</td>\n",
       "      <td>11295</td>\n",
       "    </tr>\n",
       "    <tr>\n",
       "      <th>1</th>\n",
       "      <td>2</td>\n",
       "      <td>['12-Jan-11', '19:15']</td>\n",
       "      <td>카타르</td>\n",
       "      <td>4</td>\n",
       "      <td>16</td>\n",
       "      <td>51</td>\n",
       "      <td>1</td>\n",
       "      <td>21</td>\n",
       "      <td>92</td>\n",
       "      <td>11295</td>\n",
       "    </tr>\n",
       "    <tr>\n",
       "      <th>2</th>\n",
       "      <td>3</td>\n",
       "      <td>['21-Jan-11', '16:25']</td>\n",
       "      <td>카타르</td>\n",
       "      <td>7</td>\n",
       "      <td>18</td>\n",
       "      <td>41</td>\n",
       "      <td>1</td>\n",
       "      <td>17</td>\n",
       "      <td>92</td>\n",
       "      <td>11295</td>\n",
       "    </tr>\n",
       "    <tr>\n",
       "      <th>3</th>\n",
       "      <td>4</td>\n",
       "      <td>['08-Jan-11', '16:15']</td>\n",
       "      <td>쿠웨이트</td>\n",
       "      <td>2</td>\n",
       "      <td>17</td>\n",
       "      <td>51</td>\n",
       "      <td>1</td>\n",
       "      <td>23</td>\n",
       "      <td>96</td>\n",
       "      <td>10350</td>\n",
       "    </tr>\n",
       "    <tr>\n",
       "      <th>4</th>\n",
       "      <td>5</td>\n",
       "      <td>['12-Jan-11', '16:15']</td>\n",
       "      <td>쿠웨이트</td>\n",
       "      <td>3</td>\n",
       "      <td>14</td>\n",
       "      <td>48</td>\n",
       "      <td>1</td>\n",
       "      <td>21</td>\n",
       "      <td>96</td>\n",
       "      <td>10350</td>\n",
       "    </tr>\n",
       "  </tbody>\n",
       "</table>\n",
       "</div>"
      ],
      "text/plain": [
       "   0                       1     2  3   4   5  6   7   8      9\n",
       "0  1  ['16-Jan-11', '19:15']   카타르  6  23  43  4  24  92  11295\n",
       "1  2  ['12-Jan-11', '19:15']   카타르  4  16  51  1  21  92  11295\n",
       "2  3  ['21-Jan-11', '16:25']   카타르  7  18  41  1  17  92  11295\n",
       "3  4  ['08-Jan-11', '16:15']  쿠웨이트  2  17  51  1  23  96  10350\n",
       "4  5  ['12-Jan-11', '16:15']  쿠웨이트  3  14  48  1  21  96  10350"
      ]
     },
     "execution_count": 2,
     "metadata": {},
     "output_type": "execute_result"
    }
   ],
   "source": [
    "# Data Fetch 후 데이터 프레임으로 변환\n",
    "year2011 = pd.DataFrame(list(rows1))\n",
    "year2011.head()"
   ]
  },
  {
   "cell_type": "code",
   "execution_count": 3,
   "metadata": {},
   "outputs": [
    {
     "data": {
      "text/html": [
       "<div>\n",
       "<style scoped>\n",
       "    .dataframe tbody tr th:only-of-type {\n",
       "        vertical-align: middle;\n",
       "    }\n",
       "\n",
       "    .dataframe tbody tr th {\n",
       "        vertical-align: top;\n",
       "    }\n",
       "\n",
       "    .dataframe thead th {\n",
       "        text-align: right;\n",
       "    }\n",
       "</style>\n",
       "<table border=\"1\" class=\"dataframe\">\n",
       "  <thead>\n",
       "    <tr style=\"text-align: right;\">\n",
       "      <th></th>\n",
       "      <th>0</th>\n",
       "      <th>1</th>\n",
       "      <th>2</th>\n",
       "      <th>3</th>\n",
       "      <th>4</th>\n",
       "      <th>5</th>\n",
       "      <th>6</th>\n",
       "      <th>7</th>\n",
       "      <th>8</th>\n",
       "      <th>9</th>\n",
       "    </tr>\n",
       "  </thead>\n",
       "  <tbody>\n",
       "    <tr>\n",
       "      <th>0</th>\n",
       "      <td>1</td>\n",
       "      <td>['31-Jan-15', '20:00']</td>\n",
       "      <td>한국</td>\n",
       "      <td>3</td>\n",
       "      <td>19</td>\n",
       "      <td>47</td>\n",
       "      <td>4</td>\n",
       "      <td>24</td>\n",
       "      <td>51</td>\n",
       "      <td>2306476</td>\n",
       "    </tr>\n",
       "    <tr>\n",
       "      <th>1</th>\n",
       "      <td>2</td>\n",
       "      <td>['30-Jan-15', '20:00']</td>\n",
       "      <td>이라크</td>\n",
       "      <td>7</td>\n",
       "      <td>20</td>\n",
       "      <td>37</td>\n",
       "      <td>1</td>\n",
       "      <td>24</td>\n",
       "      <td>89</td>\n",
       "      <td>9586</td>\n",
       "    </tr>\n",
       "    <tr>\n",
       "      <th>2</th>\n",
       "      <td>3</td>\n",
       "      <td>['27-Jan-15', '20:00']</td>\n",
       "      <td>오스트레일리아</td>\n",
       "      <td>3</td>\n",
       "      <td>15</td>\n",
       "      <td>53</td>\n",
       "      <td>3</td>\n",
       "      <td>19</td>\n",
       "      <td>100</td>\n",
       "      <td>1534325</td>\n",
       "    </tr>\n",
       "    <tr>\n",
       "      <th>3</th>\n",
       "      <td>4</td>\n",
       "      <td>['26-Jan-15', '20:00']</td>\n",
       "      <td>한국</td>\n",
       "      <td>7</td>\n",
       "      <td>7</td>\n",
       "      <td>53</td>\n",
       "      <td>3</td>\n",
       "      <td>20</td>\n",
       "      <td>51</td>\n",
       "      <td>2306476</td>\n",
       "    </tr>\n",
       "    <tr>\n",
       "      <th>4</th>\n",
       "      <td>5</td>\n",
       "      <td>['23-Jan-15', '20:30']</td>\n",
       "      <td>일본</td>\n",
       "      <td>8</td>\n",
       "      <td>17</td>\n",
       "      <td>68</td>\n",
       "      <td>1</td>\n",
       "      <td>27</td>\n",
       "      <td>53</td>\n",
       "      <td>7021535</td>\n",
       "    </tr>\n",
       "  </tbody>\n",
       "</table>\n",
       "</div>"
      ],
      "text/plain": [
       "   0                       1        2  3   4   5  6   7    8        9\n",
       "0  1  ['31-Jan-15', '20:00']       한국  3  19  47  4  24   51  2306476\n",
       "1  2  ['30-Jan-15', '20:00']      이라크  7  20  37  1  24   89     9586\n",
       "2  3  ['27-Jan-15', '20:00']  오스트레일리아  3  15  53  3  19  100  1534325\n",
       "3  4  ['26-Jan-15', '20:00']       한국  7   7  53  3  20   51  2306476\n",
       "4  5  ['23-Jan-15', '20:30']       일본  8  17  68  1  27   53  7021535"
      ]
     },
     "execution_count": 3,
     "metadata": {},
     "output_type": "execute_result"
    }
   ],
   "source": [
    "# Data Fetch 후 데이터 프레임으로 변환\n",
    "year2015 = pd.DataFrame(list(rows2))\n",
    "year2015.head()"
   ]
  },
  {
   "cell_type": "code",
   "execution_count": 4,
   "metadata": {},
   "outputs": [],
   "source": [
    "conn.close()"
   ]
  },
  {
   "cell_type": "code",
   "execution_count": 5,
   "metadata": {
    "scrolled": true
   },
   "outputs": [
    {
     "data": {
      "text/html": [
       "<div>\n",
       "<style scoped>\n",
       "    .dataframe tbody tr th:only-of-type {\n",
       "        vertical-align: middle;\n",
       "    }\n",
       "\n",
       "    .dataframe tbody tr th {\n",
       "        vertical-align: top;\n",
       "    }\n",
       "\n",
       "    .dataframe thead th {\n",
       "        text-align: right;\n",
       "    }\n",
       "</style>\n",
       "<table border=\"1\" class=\"dataframe\">\n",
       "  <thead>\n",
       "    <tr style=\"text-align: right;\">\n",
       "      <th></th>\n",
       "      <th>기간</th>\n",
       "      <th>국가</th>\n",
       "      <th>유효슈팅</th>\n",
       "      <th>반칙</th>\n",
       "      <th>점유율</th>\n",
       "      <th>날씨</th>\n",
       "      <th>기온</th>\n",
       "      <th>피파랭킹</th>\n",
       "      <th>팀연봉</th>\n",
       "    </tr>\n",
       "  </thead>\n",
       "  <tbody>\n",
       "    <tr>\n",
       "      <th>0</th>\n",
       "      <td>['31-Jan-15', '20:00']</td>\n",
       "      <td>한국</td>\n",
       "      <td>3</td>\n",
       "      <td>19</td>\n",
       "      <td>47</td>\n",
       "      <td>4</td>\n",
       "      <td>24</td>\n",
       "      <td>51</td>\n",
       "      <td>2306476</td>\n",
       "    </tr>\n",
       "    <tr>\n",
       "      <th>1</th>\n",
       "      <td>['30-Jan-15', '20:00']</td>\n",
       "      <td>이라크</td>\n",
       "      <td>7</td>\n",
       "      <td>20</td>\n",
       "      <td>37</td>\n",
       "      <td>1</td>\n",
       "      <td>24</td>\n",
       "      <td>89</td>\n",
       "      <td>9586</td>\n",
       "    </tr>\n",
       "    <tr>\n",
       "      <th>2</th>\n",
       "      <td>['27-Jan-15', '20:00']</td>\n",
       "      <td>오스트레일리아</td>\n",
       "      <td>3</td>\n",
       "      <td>15</td>\n",
       "      <td>53</td>\n",
       "      <td>3</td>\n",
       "      <td>19</td>\n",
       "      <td>100</td>\n",
       "      <td>1534325</td>\n",
       "    </tr>\n",
       "    <tr>\n",
       "      <th>3</th>\n",
       "      <td>['26-Jan-15', '20:00']</td>\n",
       "      <td>한국</td>\n",
       "      <td>7</td>\n",
       "      <td>7</td>\n",
       "      <td>53</td>\n",
       "      <td>3</td>\n",
       "      <td>20</td>\n",
       "      <td>51</td>\n",
       "      <td>2306476</td>\n",
       "    </tr>\n",
       "    <tr>\n",
       "      <th>4</th>\n",
       "      <td>['23-Jan-15', '20:30']</td>\n",
       "      <td>일본</td>\n",
       "      <td>8</td>\n",
       "      <td>17</td>\n",
       "      <td>68</td>\n",
       "      <td>1</td>\n",
       "      <td>27</td>\n",
       "      <td>53</td>\n",
       "      <td>7021535</td>\n",
       "    </tr>\n",
       "  </tbody>\n",
       "</table>\n",
       "</div>"
      ],
      "text/plain": [
       "                       기간       국가  유효슈팅  반칙  점유율  날씨  기온  피파랭킹      팀연봉\n",
       "0  ['31-Jan-15', '20:00']       한국     3  19   47   4  24    51  2306476\n",
       "1  ['30-Jan-15', '20:00']      이라크     7  20   37   1  24    89     9586\n",
       "2  ['27-Jan-15', '20:00']  오스트레일리아     3  15   53   3  19   100  1534325\n",
       "3  ['26-Jan-15', '20:00']       한국     7   7   53   3  20    51  2306476\n",
       "4  ['23-Jan-15', '20:30']       일본     8  17   68   1  27    53  7021535"
      ]
     },
     "execution_count": 5,
     "metadata": {},
     "output_type": "execute_result"
    }
   ],
   "source": [
    "year_tot = pd.concat([year2015,year2011])\n",
    "year_tot = year_tot.drop(columns=0)\n",
    "year_tot.columns = ['기간','국가','유효슈팅','반칙','점유율','날씨','기온','피파랭킹','팀연봉']\n",
    "year_tot.head()"
   ]
  },
  {
   "cell_type": "code",
   "execution_count": 6,
   "metadata": {},
   "outputs": [
    {
     "name": "stdout",
     "output_type": "stream",
     "text": [
      "<class 'pandas.core.frame.DataFrame'>\n",
      "Int64Index: 128 entries, 0 to 63\n",
      "Data columns (total 9 columns):\n",
      "기간      128 non-null object\n",
      "국가      128 non-null object\n",
      "유효슈팅    128 non-null int64\n",
      "반칙      128 non-null int64\n",
      "점유율     128 non-null int64\n",
      "날씨      128 non-null int64\n",
      "기온      128 non-null int64\n",
      "피파랭킹    128 non-null int64\n",
      "팀연봉     128 non-null int64\n",
      "dtypes: int64(7), object(2)\n",
      "memory usage: 10.0+ KB\n"
     ]
    }
   ],
   "source": [
    "year_tot.info()"
   ]
  },
  {
   "cell_type": "code",
   "execution_count": 7,
   "metadata": {},
   "outputs": [
    {
     "name": "stdout",
     "output_type": "stream",
     "text": [
      "['바레인' '북한' '사우디아라비아' '시리아' '아랍에미리트' '오만' '오스트레일리아' '요르단' '우즈베키스탄' '이라크'\n",
      " '이란' '인도' '일본' '중국' '카타르' '쿠웨이트' '팔레스타인' '한국']\n"
     ]
    }
   ],
   "source": [
    "# 국가 카테고리 1~18번까지 바뀌기 전 값(한글 내림차순으로 바뀐 것)\n",
    "check = year_tot['국가'].unique()\n",
    "check.sort()\n",
    "print(check)"
   ]
  },
  {
   "cell_type": "code",
   "execution_count": 8,
   "metadata": {},
   "outputs": [],
   "source": [
    "# 국가별 csv 나누기\n",
    "for i in check:\n",
    "    tm = year_tot[year_tot['국가'] == '%s'%i]\n",
    "    tm.to_csv('./nationseperate_{0}_190214.csv'.format(i), index=False, header=True)"
   ]
  },
  {
   "cell_type": "markdown",
   "metadata": {},
   "source": [
    "----"
   ]
  },
  {
   "cell_type": "code",
   "execution_count": 9,
   "metadata": {},
   "outputs": [
    {
     "data": {
      "text/html": [
       "<div>\n",
       "<style scoped>\n",
       "    .dataframe tbody tr th:only-of-type {\n",
       "        vertical-align: middle;\n",
       "    }\n",
       "\n",
       "    .dataframe tbody tr th {\n",
       "        vertical-align: top;\n",
       "    }\n",
       "\n",
       "    .dataframe thead th {\n",
       "        text-align: right;\n",
       "    }\n",
       "</style>\n",
       "<table border=\"1\" class=\"dataframe\">\n",
       "  <thead>\n",
       "    <tr style=\"text-align: right;\">\n",
       "      <th></th>\n",
       "      <th>기간</th>\n",
       "      <th>국가</th>\n",
       "      <th>유효슈팅</th>\n",
       "      <th>반칙</th>\n",
       "      <th>점유율</th>\n",
       "      <th>날씨</th>\n",
       "      <th>기온</th>\n",
       "      <th>피파랭킹</th>\n",
       "      <th>팀연봉</th>\n",
       "    </tr>\n",
       "  </thead>\n",
       "  <tbody>\n",
       "    <tr>\n",
       "      <th>0</th>\n",
       "      <td>['31-Jan-15', '20:00']</td>\n",
       "      <td>한국</td>\n",
       "      <td>3</td>\n",
       "      <td>19</td>\n",
       "      <td>47</td>\n",
       "      <td>4</td>\n",
       "      <td>24</td>\n",
       "      <td>161</td>\n",
       "      <td>2306476</td>\n",
       "    </tr>\n",
       "    <tr>\n",
       "      <th>1</th>\n",
       "      <td>['30-Jan-15', '20:00']</td>\n",
       "      <td>이라크</td>\n",
       "      <td>7</td>\n",
       "      <td>20</td>\n",
       "      <td>37</td>\n",
       "      <td>1</td>\n",
       "      <td>24</td>\n",
       "      <td>123</td>\n",
       "      <td>9586</td>\n",
       "    </tr>\n",
       "    <tr>\n",
       "      <th>2</th>\n",
       "      <td>['27-Jan-15', '20:00']</td>\n",
       "      <td>오스트레일리아</td>\n",
       "      <td>3</td>\n",
       "      <td>15</td>\n",
       "      <td>53</td>\n",
       "      <td>3</td>\n",
       "      <td>19</td>\n",
       "      <td>112</td>\n",
       "      <td>1534325</td>\n",
       "    </tr>\n",
       "    <tr>\n",
       "      <th>3</th>\n",
       "      <td>['26-Jan-15', '20:00']</td>\n",
       "      <td>한국</td>\n",
       "      <td>7</td>\n",
       "      <td>7</td>\n",
       "      <td>53</td>\n",
       "      <td>3</td>\n",
       "      <td>20</td>\n",
       "      <td>161</td>\n",
       "      <td>2306476</td>\n",
       "    </tr>\n",
       "    <tr>\n",
       "      <th>4</th>\n",
       "      <td>['23-Jan-15', '20:30']</td>\n",
       "      <td>일본</td>\n",
       "      <td>8</td>\n",
       "      <td>17</td>\n",
       "      <td>68</td>\n",
       "      <td>1</td>\n",
       "      <td>27</td>\n",
       "      <td>159</td>\n",
       "      <td>7021535</td>\n",
       "    </tr>\n",
       "  </tbody>\n",
       "</table>\n",
       "</div>"
      ],
      "text/plain": [
       "                       기간       국가  유효슈팅  반칙  점유율  날씨  기온  피파랭킹      팀연봉\n",
       "0  ['31-Jan-15', '20:00']       한국     3  19   47   4  24   161  2306476\n",
       "1  ['30-Jan-15', '20:00']      이라크     7  20   37   1  24   123     9586\n",
       "2  ['27-Jan-15', '20:00']  오스트레일리아     3  15   53   3  19   112  1534325\n",
       "3  ['26-Jan-15', '20:00']       한국     7   7   53   3  20   161  2306476\n",
       "4  ['23-Jan-15', '20:30']       일본     8  17   68   1  27   159  7021535"
      ]
     },
     "execution_count": 9,
     "metadata": {},
     "output_type": "execute_result"
    }
   ],
   "source": [
    "# 컬럼별로 숫자가 높을 수록 좋은건지 안 좋은 건지 바꿔줘야함(통일시켜야함)\n",
    "# 반칙 수, 랭킹 => 높을수록 안좋음...\n",
    "# 랭킹은 211위가 꼴찌라 212에서 빼면 역순.\n",
    "year_tot['피파랭킹'] = 212-year_tot['피파랭킹']\n",
    "year_tot.head()"
   ]
  },
  {
   "cell_type": "code",
   "execution_count": 10,
   "metadata": {},
   "outputs": [],
   "source": [
    "# # 반칙은 일단 50에서 빼보자 = 최대가 35\n",
    "# # 이러면 반칙 수가 클수록 실제 반칙 횟수가 적은 것이 됨. 피파랭킹도\n",
    "# year_tot['반칙'] = 50-year_tot['반칙']\n",
    "# year_tot.head()"
   ]
  },
  {
   "cell_type": "code",
   "execution_count": 11,
   "metadata": {},
   "outputs": [
    {
     "data": {
      "text/html": [
       "<div>\n",
       "<style scoped>\n",
       "    .dataframe tbody tr th:only-of-type {\n",
       "        vertical-align: middle;\n",
       "    }\n",
       "\n",
       "    .dataframe tbody tr th {\n",
       "        vertical-align: top;\n",
       "    }\n",
       "\n",
       "    .dataframe thead th {\n",
       "        text-align: right;\n",
       "    }\n",
       "</style>\n",
       "<table border=\"1\" class=\"dataframe\">\n",
       "  <thead>\n",
       "    <tr style=\"text-align: right;\">\n",
       "      <th></th>\n",
       "      <th>기간</th>\n",
       "      <th>국가</th>\n",
       "      <th>유효슈팅</th>\n",
       "      <th>반칙</th>\n",
       "      <th>점유율</th>\n",
       "      <th>날씨</th>\n",
       "      <th>기온</th>\n",
       "      <th>피파랭킹</th>\n",
       "      <th>팀연봉</th>\n",
       "    </tr>\n",
       "  </thead>\n",
       "  <tbody>\n",
       "    <tr>\n",
       "      <th>0</th>\n",
       "      <td>['31-Jan-15', '20:00']</td>\n",
       "      <td>한국</td>\n",
       "      <td>3</td>\n",
       "      <td>-19</td>\n",
       "      <td>47</td>\n",
       "      <td>4</td>\n",
       "      <td>24</td>\n",
       "      <td>161</td>\n",
       "      <td>2306476</td>\n",
       "    </tr>\n",
       "    <tr>\n",
       "      <th>1</th>\n",
       "      <td>['30-Jan-15', '20:00']</td>\n",
       "      <td>이라크</td>\n",
       "      <td>7</td>\n",
       "      <td>-20</td>\n",
       "      <td>37</td>\n",
       "      <td>1</td>\n",
       "      <td>24</td>\n",
       "      <td>123</td>\n",
       "      <td>9586</td>\n",
       "    </tr>\n",
       "    <tr>\n",
       "      <th>2</th>\n",
       "      <td>['27-Jan-15', '20:00']</td>\n",
       "      <td>오스트레일리아</td>\n",
       "      <td>3</td>\n",
       "      <td>-15</td>\n",
       "      <td>53</td>\n",
       "      <td>3</td>\n",
       "      <td>19</td>\n",
       "      <td>112</td>\n",
       "      <td>1534325</td>\n",
       "    </tr>\n",
       "    <tr>\n",
       "      <th>3</th>\n",
       "      <td>['26-Jan-15', '20:00']</td>\n",
       "      <td>한국</td>\n",
       "      <td>7</td>\n",
       "      <td>-7</td>\n",
       "      <td>53</td>\n",
       "      <td>3</td>\n",
       "      <td>20</td>\n",
       "      <td>161</td>\n",
       "      <td>2306476</td>\n",
       "    </tr>\n",
       "    <tr>\n",
       "      <th>4</th>\n",
       "      <td>['23-Jan-15', '20:30']</td>\n",
       "      <td>일본</td>\n",
       "      <td>8</td>\n",
       "      <td>-17</td>\n",
       "      <td>68</td>\n",
       "      <td>1</td>\n",
       "      <td>27</td>\n",
       "      <td>159</td>\n",
       "      <td>7021535</td>\n",
       "    </tr>\n",
       "  </tbody>\n",
       "</table>\n",
       "</div>"
      ],
      "text/plain": [
       "                       기간       국가  유효슈팅  반칙  점유율  날씨  기온  피파랭킹      팀연봉\n",
       "0  ['31-Jan-15', '20:00']       한국     3 -19   47   4  24   161  2306476\n",
       "1  ['30-Jan-15', '20:00']      이라크     7 -20   37   1  24   123     9586\n",
       "2  ['27-Jan-15', '20:00']  오스트레일리아     3 -15   53   3  19   112  1534325\n",
       "3  ['26-Jan-15', '20:00']       한국     7  -7   53   3  20   161  2306476\n",
       "4  ['23-Jan-15', '20:30']       일본     8 -17   68   1  27   159  7021535"
      ]
     },
     "execution_count": 11,
     "metadata": {},
     "output_type": "execute_result"
    }
   ],
   "source": [
    "# 위에 값이 이상해서 그냥 -를 붙여보자\n",
    "year_tot['반칙'] = -year_tot['반칙']\n",
    "year_tot.head()"
   ]
  },
  {
   "cell_type": "code",
   "execution_count": 12,
   "metadata": {},
   "outputs": [],
   "source": [
    "# pd.set_option('display.float_format', '{:.5f}'.format) 지수없애기"
   ]
  },
  {
   "cell_type": "code",
   "execution_count": 13,
   "metadata": {
    "scrolled": true
   },
   "outputs": [],
   "source": [
    "# 날씨, 국가는 카테고리로 일단 바꾸기\n",
    "year_tot['날씨'] = year_tot['날씨'].astype('category')\n",
    "year_tot['국가'] = year_tot['국가'].astype('category')"
   ]
  },
  {
   "cell_type": "code",
   "execution_count": 14,
   "metadata": {},
   "outputs": [],
   "source": [
    "year_tot['국가'].cat.categories = ['%s'%i for i in range(1,19)]"
   ]
  },
  {
   "cell_type": "code",
   "execution_count": 15,
   "metadata": {},
   "outputs": [
    {
     "data": {
      "text/html": [
       "<div>\n",
       "<style scoped>\n",
       "    .dataframe tbody tr th:only-of-type {\n",
       "        vertical-align: middle;\n",
       "    }\n",
       "\n",
       "    .dataframe tbody tr th {\n",
       "        vertical-align: top;\n",
       "    }\n",
       "\n",
       "    .dataframe thead th {\n",
       "        text-align: right;\n",
       "    }\n",
       "</style>\n",
       "<table border=\"1\" class=\"dataframe\">\n",
       "  <thead>\n",
       "    <tr style=\"text-align: right;\">\n",
       "      <th></th>\n",
       "      <th>기간</th>\n",
       "      <th>국가</th>\n",
       "      <th>유효슈팅</th>\n",
       "      <th>반칙</th>\n",
       "      <th>점유율</th>\n",
       "      <th>날씨</th>\n",
       "      <th>기온</th>\n",
       "      <th>피파랭킹</th>\n",
       "      <th>팀연봉</th>\n",
       "    </tr>\n",
       "  </thead>\n",
       "  <tbody>\n",
       "    <tr>\n",
       "      <th>0</th>\n",
       "      <td>['31-Jan-15', '20:00']</td>\n",
       "      <td>18</td>\n",
       "      <td>3</td>\n",
       "      <td>-19</td>\n",
       "      <td>47</td>\n",
       "      <td>4</td>\n",
       "      <td>24</td>\n",
       "      <td>161</td>\n",
       "      <td>2306476</td>\n",
       "    </tr>\n",
       "    <tr>\n",
       "      <th>1</th>\n",
       "      <td>['30-Jan-15', '20:00']</td>\n",
       "      <td>10</td>\n",
       "      <td>7</td>\n",
       "      <td>-20</td>\n",
       "      <td>37</td>\n",
       "      <td>1</td>\n",
       "      <td>24</td>\n",
       "      <td>123</td>\n",
       "      <td>9586</td>\n",
       "    </tr>\n",
       "    <tr>\n",
       "      <th>2</th>\n",
       "      <td>['27-Jan-15', '20:00']</td>\n",
       "      <td>7</td>\n",
       "      <td>3</td>\n",
       "      <td>-15</td>\n",
       "      <td>53</td>\n",
       "      <td>3</td>\n",
       "      <td>19</td>\n",
       "      <td>112</td>\n",
       "      <td>1534325</td>\n",
       "    </tr>\n",
       "    <tr>\n",
       "      <th>3</th>\n",
       "      <td>['26-Jan-15', '20:00']</td>\n",
       "      <td>18</td>\n",
       "      <td>7</td>\n",
       "      <td>-7</td>\n",
       "      <td>53</td>\n",
       "      <td>3</td>\n",
       "      <td>20</td>\n",
       "      <td>161</td>\n",
       "      <td>2306476</td>\n",
       "    </tr>\n",
       "    <tr>\n",
       "      <th>4</th>\n",
       "      <td>['23-Jan-15', '20:30']</td>\n",
       "      <td>13</td>\n",
       "      <td>8</td>\n",
       "      <td>-17</td>\n",
       "      <td>68</td>\n",
       "      <td>1</td>\n",
       "      <td>27</td>\n",
       "      <td>159</td>\n",
       "      <td>7021535</td>\n",
       "    </tr>\n",
       "  </tbody>\n",
       "</table>\n",
       "</div>"
      ],
      "text/plain": [
       "                       기간  국가  유효슈팅  반칙  점유율 날씨  기온  피파랭킹      팀연봉\n",
       "0  ['31-Jan-15', '20:00']  18     3 -19   47  4  24   161  2306476\n",
       "1  ['30-Jan-15', '20:00']  10     7 -20   37  1  24   123     9586\n",
       "2  ['27-Jan-15', '20:00']   7     3 -15   53  3  19   112  1534325\n",
       "3  ['26-Jan-15', '20:00']  18     7  -7   53  3  20   161  2306476\n",
       "4  ['23-Jan-15', '20:30']  13     8 -17   68  1  27   159  7021535"
      ]
     },
     "execution_count": 15,
     "metadata": {},
     "output_type": "execute_result"
    }
   ],
   "source": [
    "year_tot.head()"
   ]
  },
  {
   "cell_type": "code",
   "execution_count": 16,
   "metadata": {},
   "outputs": [],
   "source": [
    "# 테스트 : 연봉 값을 표준화해서 해보자\n",
    "year_tot['팀연봉'] = np.log1p(year_tot['팀연봉'])\n",
    "year_tot['예측값'] = year_tot['유효슈팅'] + year_tot['반칙'] + year_tot['점유율'] + year_tot['기온'] + year_tot['피파랭킹'] + np.log1p(year_tot['팀연봉'])"
   ]
  },
  {
   "cell_type": "code",
   "execution_count": 17,
   "metadata": {},
   "outputs": [
    {
     "data": {
      "text/html": [
       "<div>\n",
       "<style scoped>\n",
       "    .dataframe tbody tr th:only-of-type {\n",
       "        vertical-align: middle;\n",
       "    }\n",
       "\n",
       "    .dataframe tbody tr th {\n",
       "        vertical-align: top;\n",
       "    }\n",
       "\n",
       "    .dataframe thead th {\n",
       "        text-align: right;\n",
       "    }\n",
       "</style>\n",
       "<table border=\"1\" class=\"dataframe\">\n",
       "  <thead>\n",
       "    <tr style=\"text-align: right;\">\n",
       "      <th></th>\n",
       "      <th>기간</th>\n",
       "      <th>국가</th>\n",
       "      <th>유효슈팅</th>\n",
       "      <th>반칙</th>\n",
       "      <th>점유율</th>\n",
       "      <th>날씨</th>\n",
       "      <th>기온</th>\n",
       "      <th>피파랭킹</th>\n",
       "      <th>팀연봉</th>\n",
       "      <th>예측값</th>\n",
       "    </tr>\n",
       "  </thead>\n",
       "  <tbody>\n",
       "    <tr>\n",
       "      <th>0</th>\n",
       "      <td>['31-Jan-15', '20:00']</td>\n",
       "      <td>18</td>\n",
       "      <td>3</td>\n",
       "      <td>-19</td>\n",
       "      <td>47</td>\n",
       "      <td>4</td>\n",
       "      <td>24</td>\n",
       "      <td>161</td>\n",
       "      <td>14.651232</td>\n",
       "      <td>218.750550</td>\n",
       "    </tr>\n",
       "    <tr>\n",
       "      <th>1</th>\n",
       "      <td>['30-Jan-15', '20:00']</td>\n",
       "      <td>10</td>\n",
       "      <td>7</td>\n",
       "      <td>-20</td>\n",
       "      <td>37</td>\n",
       "      <td>1</td>\n",
       "      <td>24</td>\n",
       "      <td>123</td>\n",
       "      <td>9.168163</td>\n",
       "      <td>173.319262</td>\n",
       "    </tr>\n",
       "    <tr>\n",
       "      <th>2</th>\n",
       "      <td>['27-Jan-15', '20:00']</td>\n",
       "      <td>7</td>\n",
       "      <td>3</td>\n",
       "      <td>-15</td>\n",
       "      <td>53</td>\n",
       "      <td>3</td>\n",
       "      <td>19</td>\n",
       "      <td>112</td>\n",
       "      <td>14.243602</td>\n",
       "      <td>174.724160</td>\n",
       "    </tr>\n",
       "    <tr>\n",
       "      <th>3</th>\n",
       "      <td>['26-Jan-15', '20:00']</td>\n",
       "      <td>18</td>\n",
       "      <td>7</td>\n",
       "      <td>-7</td>\n",
       "      <td>53</td>\n",
       "      <td>3</td>\n",
       "      <td>20</td>\n",
       "      <td>161</td>\n",
       "      <td>14.651232</td>\n",
       "      <td>236.750550</td>\n",
       "    </tr>\n",
       "    <tr>\n",
       "      <th>4</th>\n",
       "      <td>['23-Jan-15', '20:30']</td>\n",
       "      <td>13</td>\n",
       "      <td>8</td>\n",
       "      <td>-17</td>\n",
       "      <td>68</td>\n",
       "      <td>1</td>\n",
       "      <td>27</td>\n",
       "      <td>159</td>\n",
       "      <td>15.764493</td>\n",
       "      <td>247.819263</td>\n",
       "    </tr>\n",
       "  </tbody>\n",
       "</table>\n",
       "</div>"
      ],
      "text/plain": [
       "                       기간  국가  유효슈팅  반칙  점유율 날씨  기온  피파랭킹        팀연봉  \\\n",
       "0  ['31-Jan-15', '20:00']  18     3 -19   47  4  24   161  14.651232   \n",
       "1  ['30-Jan-15', '20:00']  10     7 -20   37  1  24   123   9.168163   \n",
       "2  ['27-Jan-15', '20:00']   7     3 -15   53  3  19   112  14.243602   \n",
       "3  ['26-Jan-15', '20:00']  18     7  -7   53  3  20   161  14.651232   \n",
       "4  ['23-Jan-15', '20:30']  13     8 -17   68  1  27   159  15.764493   \n",
       "\n",
       "          예측값  \n",
       "0  218.750550  \n",
       "1  173.319262  \n",
       "2  174.724160  \n",
       "3  236.750550  \n",
       "4  247.819263  "
      ]
     },
     "execution_count": 17,
     "metadata": {},
     "output_type": "execute_result"
    }
   ],
   "source": [
    "year_tot.head()"
   ]
  },
  {
   "cell_type": "code",
   "execution_count": 18,
   "metadata": {},
   "outputs": [
    {
     "data": {
      "text/html": [
       "<div>\n",
       "<style scoped>\n",
       "    .dataframe tbody tr th:only-of-type {\n",
       "        vertical-align: middle;\n",
       "    }\n",
       "\n",
       "    .dataframe tbody tr th {\n",
       "        vertical-align: top;\n",
       "    }\n",
       "\n",
       "    .dataframe thead th {\n",
       "        text-align: right;\n",
       "    }\n",
       "</style>\n",
       "<table border=\"1\" class=\"dataframe\">\n",
       "  <thead>\n",
       "    <tr style=\"text-align: right;\">\n",
       "      <th></th>\n",
       "      <th>국가</th>\n",
       "      <th>유효슈팅</th>\n",
       "      <th>반칙</th>\n",
       "      <th>점유율</th>\n",
       "      <th>날씨</th>\n",
       "      <th>기온</th>\n",
       "      <th>피파랭킹</th>\n",
       "      <th>팀연봉</th>\n",
       "      <th>예측값</th>\n",
       "    </tr>\n",
       "  </thead>\n",
       "  <tbody>\n",
       "    <tr>\n",
       "      <th>0</th>\n",
       "      <td>18</td>\n",
       "      <td>3</td>\n",
       "      <td>-19</td>\n",
       "      <td>47</td>\n",
       "      <td>4</td>\n",
       "      <td>24</td>\n",
       "      <td>161</td>\n",
       "      <td>14.651232</td>\n",
       "      <td>218.750550</td>\n",
       "    </tr>\n",
       "    <tr>\n",
       "      <th>1</th>\n",
       "      <td>10</td>\n",
       "      <td>7</td>\n",
       "      <td>-20</td>\n",
       "      <td>37</td>\n",
       "      <td>1</td>\n",
       "      <td>24</td>\n",
       "      <td>123</td>\n",
       "      <td>9.168163</td>\n",
       "      <td>173.319262</td>\n",
       "    </tr>\n",
       "    <tr>\n",
       "      <th>2</th>\n",
       "      <td>7</td>\n",
       "      <td>3</td>\n",
       "      <td>-15</td>\n",
       "      <td>53</td>\n",
       "      <td>3</td>\n",
       "      <td>19</td>\n",
       "      <td>112</td>\n",
       "      <td>14.243602</td>\n",
       "      <td>174.724160</td>\n",
       "    </tr>\n",
       "    <tr>\n",
       "      <th>3</th>\n",
       "      <td>18</td>\n",
       "      <td>7</td>\n",
       "      <td>-7</td>\n",
       "      <td>53</td>\n",
       "      <td>3</td>\n",
       "      <td>20</td>\n",
       "      <td>161</td>\n",
       "      <td>14.651232</td>\n",
       "      <td>236.750550</td>\n",
       "    </tr>\n",
       "    <tr>\n",
       "      <th>4</th>\n",
       "      <td>13</td>\n",
       "      <td>8</td>\n",
       "      <td>-17</td>\n",
       "      <td>68</td>\n",
       "      <td>1</td>\n",
       "      <td>27</td>\n",
       "      <td>159</td>\n",
       "      <td>15.764493</td>\n",
       "      <td>247.819263</td>\n",
       "    </tr>\n",
       "  </tbody>\n",
       "</table>\n",
       "</div>"
      ],
      "text/plain": [
       "   국가  유효슈팅  반칙  점유율 날씨  기온  피파랭킹        팀연봉         예측값\n",
       "0  18     3 -19   47  4  24   161  14.651232  218.750550\n",
       "1  10     7 -20   37  1  24   123   9.168163  173.319262\n",
       "2   7     3 -15   53  3  19   112  14.243602  174.724160\n",
       "3  18     7  -7   53  3  20   161  14.651232  236.750550\n",
       "4  13     8 -17   68  1  27   159  15.764493  247.819263"
      ]
     },
     "execution_count": 18,
     "metadata": {},
     "output_type": "execute_result"
    }
   ],
   "source": [
    "year_tot = year_tot.drop(columns='기간')\n",
    "year_tot.head()\n"
   ]
  },
  {
   "cell_type": "code",
   "execution_count": 19,
   "metadata": {},
   "outputs": [],
   "source": [
    "from sklearn.model_selection import train_test_split"
   ]
  },
  {
   "cell_type": "code",
   "execution_count": 20,
   "metadata": {},
   "outputs": [],
   "source": [
    "# 앞은 문제, 뒤는 정답 순서, random_state은 한 번 바뀐 랜덤값이 안 바뀜.\n",
    "X_train, X_test, Y_train, Y_test = train_test_split(year_tot[['국가','유효슈팅','반칙','점유율','날씨','기온','피파랭킹','팀연봉']], year_tot['예측값'], random_state = 0)"
   ]
  },
  {
   "cell_type": "code",
   "execution_count": 21,
   "metadata": {},
   "outputs": [
    {
     "name": "stdout",
     "output_type": "stream",
     "text": [
      "(96, 8)\n",
      "(96,)\n"
     ]
    }
   ],
   "source": [
    "print(X_train.shape) # train 문제\n",
    "print(Y_train.shape) # train 정답"
   ]
  },
  {
   "cell_type": "code",
   "execution_count": 22,
   "metadata": {},
   "outputs": [
    {
     "name": "stdout",
     "output_type": "stream",
     "text": [
      "(32, 8)\n",
      "(32,)\n"
     ]
    }
   ],
   "source": [
    "# Test 확인\n",
    "print(X_test.shape) # test 문제\n",
    "print(Y_test.shape) # test 정답"
   ]
  },
  {
   "cell_type": "code",
   "execution_count": 23,
   "metadata": {},
   "outputs": [
    {
     "data": {
      "text/plain": [
       "make_scorer(rmsle)"
      ]
     },
     "execution_count": 23,
     "metadata": {},
     "output_type": "execute_result"
    }
   ],
   "source": [
    "# RMSLE\n",
    "from sklearn.metrics import make_scorer\n",
    "def rmsle(predicted_values, actual_values):\n",
    "    # Numpy로 배열 형태로 변경\n",
    "    predicted_values = np.array(predicted_values)\n",
    "    actual_values = np.array(actual_values)\n",
    "    \n",
    "    # 에측값과 실제값에 1을 더하고 log를 씌운다.\n",
    "    log_predict = np.log(predicted_values + 1)\n",
    "    log_actual = np.log(actual_values + 1)\n",
    "    \n",
    "    # 위에서 계싼된 예측값에서 실제값을 빼주고 제곱을 해준다.\n",
    "    difference = log_predict - log_actual\n",
    "    difference = np.square(difference)\n",
    "    \n",
    "    # 평균을 구한다\n",
    "    mean_difference = difference.mean()\n",
    "    \n",
    "    # 루트를 씌운다\n",
    "    score = np.sqrt(mean_difference)\n",
    "    \n",
    "    return score\n",
    "\n",
    "rmsle_scorer = make_scorer(rmsle)\n",
    "rmsle_scorer"
   ]
  },
  {
   "cell_type": "code",
   "execution_count": 24,
   "metadata": {},
   "outputs": [],
   "source": [
    "from sklearn.model_selection import KFold\n",
    "from sklearn.model_selection import cross_val_score\n",
    "\n",
    "k_fold = KFold(n_splits = 10, shuffle = True, random_state = 0) # 고정된 상태로 10번 섞어서 테스트해라"
   ]
  },
  {
   "cell_type": "code",
   "execution_count": 25,
   "metadata": {},
   "outputs": [],
   "source": [
    "from sklearn.ensemble import RandomForestRegressor\n",
    "from sklearn.ensemble import GradientBoostingRegressor"
   ]
  },
  {
   "cell_type": "code",
   "execution_count": 26,
   "metadata": {},
   "outputs": [
    {
     "data": {
      "text/plain": [
       "GradientBoostingRegressor(alpha=0.1, criterion='friedman_mse', init=None,\n",
       "             learning_rate=0.1, loss='ls', max_depth=3, max_features=None,\n",
       "             max_leaf_nodes=None, min_impurity_decrease=0.0,\n",
       "             min_impurity_split=None, min_samples_leaf=1,\n",
       "             min_samples_split=2, min_weight_fraction_leaf=0.0,\n",
       "             n_estimators=1000, n_iter_no_change=None, presort='auto',\n",
       "             random_state=0, subsample=1.0, tol=0.0001,\n",
       "             validation_fraction=0.1, verbose=0, warm_start=False)"
      ]
     },
     "execution_count": 26,
     "metadata": {},
     "output_type": "execute_result"
    }
   ],
   "source": [
    "model = GradientBoostingRegressor(n_estimators=1000,alpha=0.1, random_state=0) # 초기값은 1000, alpha(10%씩줄이며 시도)\n",
    "# model = RandomForestRegressor(n_estimators=100, n_jobs=-1,random_state=0)\n",
    "model"
   ]
  },
  {
   "cell_type": "code",
   "execution_count": 27,
   "metadata": {},
   "outputs": [
    {
     "data": {
      "text/plain": [
       "GradientBoostingRegressor(alpha=0.1, criterion='friedman_mse', init=None,\n",
       "             learning_rate=0.1, loss='ls', max_depth=3, max_features=None,\n",
       "             max_leaf_nodes=None, min_impurity_decrease=0.0,\n",
       "             min_impurity_split=None, min_samples_leaf=1,\n",
       "             min_samples_split=2, min_weight_fraction_leaf=0.0,\n",
       "             n_estimators=1000, n_iter_no_change=None, presort='auto',\n",
       "             random_state=0, subsample=1.0, tol=0.0001,\n",
       "             validation_fraction=0.1, verbose=0, warm_start=False)"
      ]
     },
     "execution_count": 27,
     "metadata": {},
     "output_type": "execute_result"
    }
   ],
   "source": [
    "# Training\n",
    "model.fit(X_train, Y_train)"
   ]
  },
  {
   "cell_type": "code",
   "execution_count": 28,
   "metadata": {},
   "outputs": [
    {
     "name": "stdout",
     "output_type": "stream",
     "text": [
      "Wall time: 1.53 s\n",
      "Score =  0.036539426868305844\n"
     ]
    }
   ],
   "source": [
    "%time score = cross_val_score(model, X_train, Y_train, cv = k_fold, scoring = rmsle_scorer)\n",
    "score = score.mean()\n",
    "print(\"Score = \", score)"
   ]
  },
  {
   "cell_type": "code",
   "execution_count": 29,
   "metadata": {},
   "outputs": [
    {
     "name": "stdout",
     "output_type": "stream",
     "text": [
      "(32,)\n"
     ]
    }
   ],
   "source": [
    "# 예측\n",
    "pre = model.predict(X_test)\n",
    "print(pre.shape)"
   ]
  },
  {
   "cell_type": "code",
   "execution_count": 30,
   "metadata": {},
   "outputs": [],
   "source": [
    "import matplotlib as mpl\n",
    "import matplotlib.pyplot as plt\n",
    "import seaborn as sns\n",
    "%matplotlib inline\n",
    "\n",
    "import warnings\n",
    "warnings.filterwarnings('ignore')"
   ]
  },
  {
   "cell_type": "code",
   "execution_count": 31,
   "metadata": {},
   "outputs": [
    {
     "data": {
      "text/plain": [
       "[Text(0.5, 1.0, 'Test')]"
      ]
     },
     "execution_count": 31,
     "metadata": {},
     "output_type": "execute_result"
    },
    {
     "data": {
      "image/png": "[encoded data removed]",
      "text/plain": [
       "<Figure size 864x360 with 2 Axes>"
      ]
     },
     "metadata": {
      "needs_background": "light"
     },
     "output_type": "display_data"
    }
   ],
   "source": [
    "# 예측한 데이터를 시각화\n",
    "fig, (ax1, ax2) = plt.subplots(ncols=2)\n",
    "fig.set_size_inches(12, 5)\n",
    "sns.distplot(Y_train, ax = ax1, bins=50) # 50개정도로 나눔\n",
    "ax1.set(title = 'Train')\n",
    "sns.distplot(pre, ax = ax2, bins = 50)\n",
    "ax2.set(title = 'Test')"
   ]
  },
  {
   "cell_type": "code",
   "execution_count": null,
   "metadata": {},
   "outputs": [],
   "source": []
  }
 ],
 "metadata": {
  "kernelspec": {
   "display_name": "Python 3",
   "language": "python",
   "name": "python3"
  },
  "language_info": {
   "codemirror_mode": {
    "name": "ipython",
    "version": 3
   },
   "file_extension": ".py",
   "mimetype": "text/x-python",
   "name": "python",
   "nbconvert_exporter": "python",
   "pygments_lexer": "ipython3",
   "version": "3.7.2"
  }
 },
 "nbformat": 4,
 "nbformat_minor": 2
}
