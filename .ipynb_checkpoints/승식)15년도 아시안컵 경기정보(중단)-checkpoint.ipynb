{
 "cells": [
  {
   "cell_type": "code",
   "execution_count": 2,
   "metadata": {},
   "outputs": [],
   "source": [
    "import pandas as pd\n",
    "import numpy as np"
   ]
  },
  {
   "cell_type": "code",
   "execution_count": 2,
   "metadata": {},
   "outputs": [],
   "source": [
    "from bs4 import BeautifulSoup\n",
    "from selenium import webdriver\n",
    "from urllib.request import urlopen\n",
    "import time"
   ]
  },
  {
   "cell_type": "code",
   "execution_count": 3,
   "metadata": {},
   "outputs": [],
   "source": [
    "# # selenium 안쓰고 req로 가져오려니까 못가져옴 .. 모르겠..\n",
    "driver = webdriver.Chrome('./chromedriver.exe')\n",
    "driver.get('https://www.scoreboard.com/kr/soccer/asia/asian-cup-2015/results/') # 새창이 하나 뜰 것\n"
   ]
  },
  {
   "cell_type": "code",
   "execution_count": null,
   "metadata": {},
   "outputs": [],
   "source": [
    "html = driver.page_source\n",
    "soup = BeautifulSoup(html, 'html.parser')"
   ]
  },
  {
   "cell_type": "code",
   "execution_count": null,
   "metadata": {},
   "outputs": [],
   "source": [
    "# 해당 테이블의 id값들은 soup로 뽑아오기\n",
    "table_1 = soup.select('#fs-results > table:nth-child(1) > tbody > tr ')\n",
    "tmp = []\n",
    "for i in table_1:\n",
    "    try:\n",
    "        tmp.append(i.attrs['id'])\n",
    "    except KeyError:\n",
    "        continue"
   ]
  },
  {
   "cell_type": "code",
   "execution_count": null,
   "metadata": {},
   "outputs": [],
   "source": [
    "tmp"
   ]
  },
  {
   "cell_type": "code",
   "execution_count": null,
   "metadata": {},
   "outputs": [],
   "source": [
    "priod = []\n",
    "left_team = []\n",
    "right_team = []\n",
    "score = []\n",
    "\n",
    "for i in tmp:\n",
    "\n",
    "    a = driver.find_element_by_xpath('//*[@id=\"%s\"]/td[2]'%i).text # 각 xpath에 id 부분을 위에서 추출한 id값을 넣어주면 됨\n",
    "    b = driver.find_element_by_xpath('//*[@id=\"%s\"]/td[3]/span'%i).text\n",
    "    c = driver.find_element_by_xpath('//*[@id=\"%s\"]/td[4]/span'%i).text\n",
    "    d = driver.find_element_by_xpath('//*[@id=\"%s\"]/td[5]'%i).text\n",
    "    \n",
    "    priod.append(a)\n",
    "    left_team.append(b)\n",
    "    right_team.append(c)\n",
    "    score.append(d)\n"
   ]
  },
  {
   "cell_type": "code",
   "execution_count": null,
   "metadata": {},
   "outputs": [],
   "source": [
    "left_team"
   ]
  },
  {
   "cell_type": "code",
   "execution_count": null,
   "metadata": {},
   "outputs": [],
   "source": [
    "# g_1_ 부분 없애기\n",
    "lists = []\n",
    "for i in tmp:\n",
    "    lists.append(i.split('g_1_')[1])\n",
    "\n",
    "print(lists)"
   ]
  },
  {
   "cell_type": "code",
   "execution_count": null,
   "metadata": {},
   "outputs": [],
   "source": [
    "number1=[]\n",
    "number2=[]\n",
    "number3=[]\n",
    "number4=[]\n",
    "number5=[]\n",
    "number6=[]\n",
    "number7=[]\n",
    "number8=[]\n",
    "number9=[]\n",
    "number10=[]\n",
    "number11=[]\n",
    "\n",
    "for i in lists:\n",
    "    url_base = 'https://www.scoreboard.com/kr/match/'\n",
    "    url_sub = i+'/#match-summary|match-statistics;0|lineups;1'\n",
    "    driver.get(url_base + url_sub)\n",
    "    \n",
    "    time.sleep(3)\n",
    "    \n",
    "    html = driver.page_source\n",
    "    soup = BeautifulSoup(html,'html.parser')\n",
    "    \n",
    "    a = soup.select('#tab-statistics-0-statistic > table > tbody > tr ')\n",
    "    nation_check = soup.select('#flashscore_column > table > tbody > tr ')\n",
    "    \n",
    "    for i in nation_check:\n",
    "        print(i.get_text())\n",
    "\n",
    "    counts = 0\n",
    "    for i in a:\n",
    "        tm = i.get_text()\n",
    "        counts += 1\n",
    "        Str = \"\"\n",
    "\n",
    "        if counts == 1:\n",
    "            number1.append(Str+tm)\n",
    "\n",
    "        if counts == 2:\n",
    "            number2.append(Str+tm)\n",
    "\n",
    "        if counts == 3:\n",
    "            number3.append(Str+tm)\n",
    "\n",
    "        if counts == 4:\n",
    "            number4.append(Str+tm)\n",
    "\n",
    "        if counts == 5:\n",
    "            number5.append(Str+tm)\n",
    "\n",
    "        if counts == 6:\n",
    "            number6.append(Str+tm)\n",
    "\n",
    "        if counts == 7:\n",
    "            number7.append(Str+tm)\n",
    "\n",
    "        if counts == 8:\n",
    "            number8.append(Str+tm)\n",
    "\n",
    "        if counts == 9:\n",
    "            number9.append(Str+tm)\n",
    "\n",
    "        if counts == 10:\n",
    "            check = list(Str+tm)\n",
    "            for j in check:\n",
    "                if j == '경':\n",
    "                    number10.append(Str+tm)\n",
    "                if j == '퇴':\n",
    "                    number11.append(Str+tm)\n",
    "\n",
    "        if counts == 11:\n",
    "            check = list(Str+tm)\n",
    "            for j in check:\n",
    "                if j == '경':\n",
    "                    number10.append(Str+tm)\n",
    "                if j == '퇴':\n",
    "                    number11.append(Str+tm)\n"
   ]
  },
  {
   "cell_type": "code",
   "execution_count": null,
   "metadata": {},
   "outputs": [],
   "source": [
    "number1"
   ]
  },
  {
   "cell_type": "code",
   "execution_count": null,
   "metadata": {},
   "outputs": [],
   "source": [
    "z1 = 0\n",
    "count1 = 0\n",
    "for i in number1:\n",
    "    z1+=1\n",
    "    if i == '':\n",
    "        count1 += 1\n",
    "        \n",
    "print(str(number1))\n",
    "print('-'*20)\n",
    "print('Row Count :', count1)"
   ]
  },
  {
   "cell_type": "code",
   "execution_count": null,
   "metadata": {},
   "outputs": [],
   "source": [
    "driver.get('https://www.scoreboard.com/kr/soccer/asia/asian-cup-2015/results/') # 새창이 하나 뜰 것\n",
    "html = driver.page_source\n",
    "soup = BeautifulSoup(html, 'html.parser')\n"
   ]
  },
  {
   "cell_type": "code",
   "execution_count": null,
   "metadata": {},
   "outputs": [],
   "source": [
    "# 해당 테이블의 id값들은 soup로 뽑아오기\n",
    "table_1 = soup.select('#fs-results > table:nth-child(2) > tbody > tr ')\n",
    "tmp = []\n",
    "for i in table_1:\n",
    "    tmp.append(i.attrs['id'])\n",
    "    "
   ]
  },
  {
   "cell_type": "code",
   "execution_count": null,
   "metadata": {},
   "outputs": [],
   "source": [
    "priod = []\n",
    "left_team = []\n",
    "right_team = []\n",
    "score = []\n",
    "\n",
    "for i in tmp:\n",
    "\n",
    "    a = driver.find_element_by_xpath('//*[@id=\"%s\"]/td[2]'%i).text # 각 xpath에 id 부분을 위에서 추출한 id값을 넣어주면 됨\n",
    "    b = driver.find_element_by_xpath('//*[@id=\"%s\"]/td[3]/span'%i).text\n",
    "    c = driver.find_element_by_xpath('//*[@id=\"%s\"]/td[4]/span'%i).text\n",
    "    d = driver.find_element_by_xpath('//*[@id=\"%s\"]/td[5]'%i).text\n",
    "    \n",
    "    priod.append(a)\n",
    "    left_team.append(b)\n",
    "    right_team.append(c)\n",
    "    score.append(d)\n"
   ]
  },
  {
   "cell_type": "code",
   "execution_count": null,
   "metadata": {},
   "outputs": [],
   "source": [
    "# df= pd.DataFrame({'priod':priod,'left_team':left_team,'right_team':right_team,'score':score})\n",
    "# df.head()\n",
    "    "
   ]
  },
  {
   "cell_type": "code",
   "execution_count": null,
   "metadata": {},
   "outputs": [],
   "source": [
    "# 해당 경기 상세 페이지로 넘어가는 url이 이렇게 나오는데 'g_1_' 이 부분은 없어야함. \n",
    "# https://www.scoreboard.com/kr/match/iraq-palestine-2015/ET1WUDUF/#match-summary|match-statistics;0|lineups;1\n",
    "# https://www.scoreboard.com/kr/match/ET1WUDUF/#match-summary|match-statistics;0|lineups;1 그리고 위랑 아래랑 같음 -> 국가 이름 빼도 됨\n",
    "\n",
    "# g_1_ 부분 없애기\n",
    "# 본선 경기 id 데이터임\n",
    "lists = []\n",
    "for i in tmp:\n",
    "    lists.append(i.split('g_1_')[1])\n",
    "\n",
    "print(lists)"
   ]
  },
  {
   "cell_type": "code",
   "execution_count": null,
   "metadata": {},
   "outputs": [],
   "source": [
    "number1=[]\n",
    "number2=[]\n",
    "number3=[]\n",
    "number4=[]\n",
    "number5=[]\n",
    "number6=[]\n",
    "number7=[]\n",
    "number8=[]\n",
    "number9=[]\n",
    "number10=[]\n",
    "number11=[]\n",
    "\n",
    "for i in lists:\n",
    "    url_base = 'https://www.scoreboard.com/kr/match/'\n",
    "    url_sub = i+'/#match-summary|match-statistics;0|lineups;1'\n",
    "    driver.get(url_base + url_sub)\n",
    "    \n",
    "    time.sleep(2)\n",
    "    \n",
    "    html = driver.page_source\n",
    "    soup = BeautifulSoup(html,'html.parser')\n",
    "    \n",
    "    a = soup.select('#tab-statistics-0-statistic > table > tbody > tr ')\n",
    "    nation_check = soup.select('#flashscore_column > table > tbody > tr ')\n",
    "    \n",
    "    for i in nation_check:\n",
    "        print(i.get_text())\n",
    "\n",
    "    counts = 0\n",
    "    for i in a:\n",
    "        tm = i.get_text()\n",
    "        counts += 1\n",
    "\n",
    "        if counts == 1:\n",
    "            number1.append(tm)\n",
    "\n",
    "        if counts == 2:\n",
    "            number2.append(tm)\n",
    "\n",
    "        if counts == 3:\n",
    "            number3.append(tm)\n",
    "\n",
    "        if counts == 4:\n",
    "            number4.append(tm)\n",
    "\n",
    "        if counts == 5:\n",
    "            number5.append(tm)\n",
    "\n",
    "        if counts == 6:\n",
    "            number6.append(tm)\n",
    "\n",
    "        if counts == 7:\n",
    "            number7.append(tm)\n",
    "\n",
    "        if counts == 8:\n",
    "            number8.append(tm)\n",
    "\n",
    "        if counts == 9:\n",
    "            number9.append(tm)\n",
    "\n",
    "        if counts == 10:\n",
    "            check = list(tm)\n",
    "            for j in check:\n",
    "                if j == '경':\n",
    "                    number10.append(tm)\n",
    "                elif j == '퇴':\n",
    "                    number11.append(tm)\n",
    "\n",
    "        if counts == 11:\n",
    "            check = list(tm)\n",
    "            for j in check:\n",
    "                if j == '경':\n",
    "                    number10.append(tm)\n",
    "                elif j == '퇴':\n",
    "                    number11.append(tm)\n"
   ]
  },
  {
   "cell_type": "code",
   "execution_count": null,
   "metadata": {},
   "outputs": [],
   "source": [
    "# 유해사이트로 막히는 거 빼면 다 가져왔을 듯?"
   ]
  },
  {
   "cell_type": "code",
   "execution_count": null,
   "metadata": {},
   "outputs": [],
   "source": []
  }
 ],
 "metadata": {
  "kernelspec": {
   "display_name": "Python 3",
   "language": "python",
   "name": "python3"
  },
  "language_info": {
   "codemirror_mode": {
    "name": "ipython",
    "version": 3
   },
   "file_extension": ".py",
   "mimetype": "text/x-python",
   "name": "python",
   "nbconvert_exporter": "python",
   "pygments_lexer": "ipython3",
   "version": "3.7.2"
  }
 },
 "nbformat": 4,
 "nbformat_minor": 2
}
