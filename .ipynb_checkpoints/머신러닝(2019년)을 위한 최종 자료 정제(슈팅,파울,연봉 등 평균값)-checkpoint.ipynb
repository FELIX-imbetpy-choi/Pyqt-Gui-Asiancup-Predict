{
 "cells": [
  {
   "cell_type": "code",
   "execution_count": 1,
   "metadata": {},
   "outputs": [],
   "source": [
    "import pandas as pd\n",
    "import numpy as np"
   ]
  },
  {
   "cell_type": "code",
   "execution_count": 2,
   "metadata": {},
   "outputs": [],
   "source": [
    "total = pd.read_csv('./data/total_match.csv')"
   ]
  },
  {
   "cell_type": "code",
   "execution_count": 3,
   "metadata": {},
   "outputs": [
    {
     "data": {
      "text/html": [
       "<div>\n",
       "<style scoped>\n",
       "    .dataframe tbody tr th:only-of-type {\n",
       "        vertical-align: middle;\n",
       "    }\n",
       "\n",
       "    .dataframe tbody tr th {\n",
       "        vertical-align: top;\n",
       "    }\n",
       "\n",
       "    .dataframe thead th {\n",
       "        text-align: right;\n",
       "    }\n",
       "</style>\n",
       "<table border=\"1\" class=\"dataframe\">\n",
       "  <thead>\n",
       "    <tr style=\"text-align: right;\">\n",
       "      <th></th>\n",
       "      <th>seq</th>\n",
       "      <th>gameday</th>\n",
       "      <th>team</th>\n",
       "      <th>shoot</th>\n",
       "      <th>foul</th>\n",
       "      <th>possession</th>\n",
       "      <th>weater</th>\n",
       "      <th>temp</th>\n",
       "      <th>rank</th>\n",
       "      <th>salary</th>\n",
       "      <th>goal</th>\n",
       "    </tr>\n",
       "  </thead>\n",
       "  <tbody>\n",
       "    <tr>\n",
       "      <th>0</th>\n",
       "      <td>12</td>\n",
       "      <td>29-Jan-11. 18:00</td>\n",
       "      <td>일본</td>\n",
       "      <td>3</td>\n",
       "      <td>14</td>\n",
       "      <td>55</td>\n",
       "      <td>4</td>\n",
       "      <td>20</td>\n",
       "      <td>17</td>\n",
       "      <td>4180995</td>\n",
       "      <td>1</td>\n",
       "    </tr>\n",
       "    <tr>\n",
       "      <th>1</th>\n",
       "      <td>51</td>\n",
       "      <td>29-Jan-11. 18:00</td>\n",
       "      <td>오스트레일리아</td>\n",
       "      <td>8</td>\n",
       "      <td>22</td>\n",
       "      <td>45</td>\n",
       "      <td>4</td>\n",
       "      <td>20</td>\n",
       "      <td>20</td>\n",
       "      <td>4910670</td>\n",
       "      <td>1</td>\n",
       "    </tr>\n",
       "    <tr>\n",
       "      <th>2</th>\n",
       "      <td>35</td>\n",
       "      <td>28-Jan-11. 18:00</td>\n",
       "      <td>우즈베키스탄</td>\n",
       "      <td>5</td>\n",
       "      <td>15</td>\n",
       "      <td>57</td>\n",
       "      <td>1</td>\n",
       "      <td>22</td>\n",
       "      <td>73</td>\n",
       "      <td>187874</td>\n",
       "      <td>2</td>\n",
       "    </tr>\n",
       "    <tr>\n",
       "      <th>3</th>\n",
       "      <td>24</td>\n",
       "      <td>28-Jan-11. 18:00</td>\n",
       "      <td>한국</td>\n",
       "      <td>4</td>\n",
       "      <td>10</td>\n",
       "      <td>43</td>\n",
       "      <td>1</td>\n",
       "      <td>22</td>\n",
       "      <td>31</td>\n",
       "      <td>2308955</td>\n",
       "      <td>3</td>\n",
       "    </tr>\n",
       "    <tr>\n",
       "      <th>4</th>\n",
       "      <td>34</td>\n",
       "      <td>25-Jan-11. 19:25</td>\n",
       "      <td>우즈베키스탄</td>\n",
       "      <td>3</td>\n",
       "      <td>9</td>\n",
       "      <td>67</td>\n",
       "      <td>4</td>\n",
       "      <td>21</td>\n",
       "      <td>73</td>\n",
       "      <td>187874</td>\n",
       "      <td>0</td>\n",
       "    </tr>\n",
       "  </tbody>\n",
       "</table>\n",
       "</div>"
      ],
      "text/plain": [
       "   seq           gameday     team  shoot  foul  possession  weater  temp  \\\n",
       "0   12  29-Jan-11. 18:00       일본      3    14          55       4    20   \n",
       "1   51  29-Jan-11. 18:00  오스트레일리아      8    22          45       4    20   \n",
       "2   35  28-Jan-11. 18:00   우즈베키스탄      5    15          57       1    22   \n",
       "3   24  28-Jan-11. 18:00       한국      4    10          43       1    22   \n",
       "4   34  25-Jan-11. 19:25   우즈베키스탄      3     9          67       4    21   \n",
       "\n",
       "   rank   salary  goal  \n",
       "0    17  4180995     1  \n",
       "1    20  4910670     1  \n",
       "2    73   187874     2  \n",
       "3    31  2308955     3  \n",
       "4    73   187874     0  "
      ]
     },
     "execution_count": 3,
     "metadata": {},
     "output_type": "execute_result"
    }
   ],
   "source": [
    "total.head()"
   ]
  },
  {
   "cell_type": "code",
   "execution_count": 8,
   "metadata": {},
   "outputs": [
    {
     "data": {
      "text/plain": [
       "5.666666666666667"
      ]
     },
     "execution_count": 8,
     "metadata": {},
     "output_type": "execute_result"
    }
   ],
   "source": [
    "total['shoot'][total['team']=='바레인'].mean()"
   ]
  },
  {
   "cell_type": "code",
   "execution_count": 11,
   "metadata": {},
   "outputs": [
    {
     "data": {
      "text/plain": [
       "17.833333333333332"
      ]
     },
     "execution_count": 11,
     "metadata": {},
     "output_type": "execute_result"
    }
   ],
   "source": [
    "total['foul'][total['team']=='바레인'].mean()"
   ]
  },
  {
   "cell_type": "code",
   "execution_count": 12,
   "metadata": {},
   "outputs": [
    {
     "data": {
      "text/plain": [
       "48.0"
      ]
     },
     "execution_count": 12,
     "metadata": {},
     "output_type": "execute_result"
    }
   ],
   "source": [
    "total['possession'][total['team']=='바레인'].mean()"
   ]
  },
  {
   "cell_type": "code",
   "execution_count": 14,
   "metadata": {},
   "outputs": [
    {
     "data": {
      "text/plain": [
       "66162.5"
      ]
     },
     "execution_count": 14,
     "metadata": {},
     "output_type": "execute_result"
    }
   ],
   "source": [
    "total['salary'][total['team']=='바레인'].mean()"
   ]
  },
  {
   "cell_type": "code",
   "execution_count": 23,
   "metadata": {},
   "outputs": [
    {
     "data": {
      "text/plain": [
       "89.42857142857143"
      ]
     },
     "execution_count": 23,
     "metadata": {},
     "output_type": "execute_result"
    }
   ],
   "source": [
    "total['rank'][total['team']=='카타르'].mean()"
   ]
  },
  {
   "cell_type": "code",
   "execution_count": 30,
   "metadata": {},
   "outputs": [],
   "source": [
    "total_av = pd.pivot_table(total, index = ['team'], aggfunc = np.mean)"
   ]
  },
  {
   "cell_type": "code",
   "execution_count": 31,
   "metadata": {},
   "outputs": [],
   "source": [
    "del total_av['salary']\n",
    "del total_av['seq']\n",
    "del total_av['rank']\n",
    "del total_av['temp']\n",
    "del total_av['weater']"
   ]
  },
  {
   "cell_type": "code",
   "execution_count": 54,
   "metadata": {},
   "outputs": [],
   "source": [
    "rank_list = []\n",
    "rank_list.append((17+53)/2)\n",
    "rank_list.append((124+105)/2)\n",
    "rank_list.append((98+80)/2)\n",
    "rank_list.append(106)\n",
    "rank_list.append((113+65)/2)\n",
    "rank_list.append(104)\n",
    "rank_list.append((20+100)/2)\n",
    "rank_list.append((81+87)/2)\n",
    "rank_list.append((73+74)/2)\n",
    "rank_list.append((91+89)/2)\n",
    "rank_list.append((42+45)/2)\n",
    "rank_list.append(160)\n",
    "rank_list.append((17+53)/2)\n",
    "rank_list.append((70+84)/2)\n",
    "rank_list.append((92+86)/2)\n",
    "rank_list.append((96+139)/2)\n",
    "rank_list.append(134)\n",
    "rank_list.append((31+51)/2)"
   ]
  },
  {
   "cell_type": "code",
   "execution_count": 55,
   "metadata": {},
   "outputs": [],
   "source": [
    "total_av['rank'] = rank_list"
   ]
  },
  {
   "cell_type": "code",
   "execution_count": 78,
   "metadata": {},
   "outputs": [],
   "source": [
    "salary_list = []\n",
    "salary_list.append((125236+7089)/2)\n",
    "salary_list.append((233211+4343)/2)\n",
    "salary_list.append((577598+12002)/2)\n",
    "salary_list.append(138091)\n",
    "salary_list.append((7380+138181)/2)\n",
    "salary_list.append(165857)\n",
    "salary_list.append((4910670+1534325)/2)\n",
    "salary_list.append((4410+3802)/2)\n",
    "salary_list.append((187874+979110)/2)\n",
    "salary_list.append((6118+9586)/2)\n",
    "salary_list.append((1556555+936990)/2)\n",
    "salary_list.append(1817)\n",
    "salary_list.append((4180995+7021535)/2)\n",
    "salary_list.append((143168+8151)/2)\n",
    "salary_list.append((11295+137367)/2)\n",
    "salary_list.append((10350+5148)/2)\n",
    "salary_list.append(1825)\n",
    "salary_list.append((2308955+2306476)/2)"
   ]
  },
  {
   "cell_type": "code",
   "execution_count": 79,
   "metadata": {},
   "outputs": [],
   "source": [
    "total_av['salary'] = salary_list"
   ]
  },
  {
   "cell_type": "code",
   "execution_count": 80,
   "metadata": {},
   "outputs": [
    {
     "data": {
      "text/html": [
       "<div>\n",
       "<style scoped>\n",
       "    .dataframe tbody tr th:only-of-type {\n",
       "        vertical-align: middle;\n",
       "    }\n",
       "\n",
       "    .dataframe tbody tr th {\n",
       "        vertical-align: top;\n",
       "    }\n",
       "\n",
       "    .dataframe thead th {\n",
       "        text-align: right;\n",
       "    }\n",
       "</style>\n",
       "<table border=\"1\" class=\"dataframe\">\n",
       "  <thead>\n",
       "    <tr style=\"text-align: right;\">\n",
       "      <th></th>\n",
       "      <th>foul</th>\n",
       "      <th>goal</th>\n",
       "      <th>possession</th>\n",
       "      <th>shoot</th>\n",
       "      <th>rank</th>\n",
       "      <th>salary</th>\n",
       "    </tr>\n",
       "    <tr>\n",
       "      <th>team</th>\n",
       "      <th></th>\n",
       "      <th></th>\n",
       "      <th></th>\n",
       "      <th></th>\n",
       "      <th></th>\n",
       "      <th></th>\n",
       "    </tr>\n",
       "  </thead>\n",
       "  <tbody>\n",
       "    <tr>\n",
       "      <th>바레인</th>\n",
       "      <td>17.833333</td>\n",
       "      <td>1.500000</td>\n",
       "      <td>48.000000</td>\n",
       "      <td>5.666667</td>\n",
       "      <td>35.0</td>\n",
       "      <td>66162.5</td>\n",
       "    </tr>\n",
       "    <tr>\n",
       "      <th>북한</th>\n",
       "      <td>16.166667</td>\n",
       "      <td>0.333333</td>\n",
       "      <td>44.833333</td>\n",
       "      <td>3.333333</td>\n",
       "      <td>114.5</td>\n",
       "      <td>118777.0</td>\n",
       "    </tr>\n",
       "    <tr>\n",
       "      <th>사우디아라비아</th>\n",
       "      <td>11.500000</td>\n",
       "      <td>1.000000</td>\n",
       "      <td>56.333333</td>\n",
       "      <td>3.333333</td>\n",
       "      <td>89.0</td>\n",
       "      <td>294800.0</td>\n",
       "    </tr>\n",
       "    <tr>\n",
       "      <th>시리아</th>\n",
       "      <td>18.666667</td>\n",
       "      <td>1.333333</td>\n",
       "      <td>49.333333</td>\n",
       "      <td>4.666667</td>\n",
       "      <td>106.0</td>\n",
       "      <td>138091.0</td>\n",
       "    </tr>\n",
       "    <tr>\n",
       "      <th>아랍에미리트</th>\n",
       "      <td>12.222222</td>\n",
       "      <td>1.444444</td>\n",
       "      <td>51.888889</td>\n",
       "      <td>3.444444</td>\n",
       "      <td>89.0</td>\n",
       "      <td>72780.5</td>\n",
       "    </tr>\n",
       "    <tr>\n",
       "      <th>오만</th>\n",
       "      <td>11.000000</td>\n",
       "      <td>0.333333</td>\n",
       "      <td>34.666667</td>\n",
       "      <td>2.000000</td>\n",
       "      <td>104.0</td>\n",
       "      <td>165857.0</td>\n",
       "    </tr>\n",
       "    <tr>\n",
       "      <th>오스트레일리아</th>\n",
       "      <td>17.500000</td>\n",
       "      <td>2.166667</td>\n",
       "      <td>54.833333</td>\n",
       "      <td>7.416667</td>\n",
       "      <td>60.0</td>\n",
       "      <td>3222497.5</td>\n",
       "    </tr>\n",
       "    <tr>\n",
       "      <th>요르단</th>\n",
       "      <td>15.142857</td>\n",
       "      <td>1.428571</td>\n",
       "      <td>39.714286</td>\n",
       "      <td>3.000000</td>\n",
       "      <td>84.0</td>\n",
       "      <td>4106.0</td>\n",
       "    </tr>\n",
       "    <tr>\n",
       "      <th>우즈베키스탄</th>\n",
       "      <td>17.900000</td>\n",
       "      <td>1.500000</td>\n",
       "      <td>54.600000</td>\n",
       "      <td>4.600000</td>\n",
       "      <td>73.5</td>\n",
       "      <td>583492.0</td>\n",
       "    </tr>\n",
       "    <tr>\n",
       "      <th>이라크</th>\n",
       "      <td>19.200000</td>\n",
       "      <td>1.200000</td>\n",
       "      <td>49.500000</td>\n",
       "      <td>4.300000</td>\n",
       "      <td>90.0</td>\n",
       "      <td>7852.0</td>\n",
       "    </tr>\n",
       "    <tr>\n",
       "      <th>이란</th>\n",
       "      <td>17.375000</td>\n",
       "      <td>1.625000</td>\n",
       "      <td>45.500000</td>\n",
       "      <td>4.000000</td>\n",
       "      <td>43.5</td>\n",
       "      <td>1246772.5</td>\n",
       "    </tr>\n",
       "    <tr>\n",
       "      <th>인도</th>\n",
       "      <td>12.666667</td>\n",
       "      <td>1.000000</td>\n",
       "      <td>36.000000</td>\n",
       "      <td>4.000000</td>\n",
       "      <td>160.0</td>\n",
       "      <td>1817.0</td>\n",
       "    </tr>\n",
       "    <tr>\n",
       "      <th>일본</th>\n",
       "      <td>20.000000</td>\n",
       "      <td>2.300000</td>\n",
       "      <td>60.900000</td>\n",
       "      <td>6.800000</td>\n",
       "      <td>35.0</td>\n",
       "      <td>5601265.0</td>\n",
       "    </tr>\n",
       "    <tr>\n",
       "      <th>중국</th>\n",
       "      <td>14.000000</td>\n",
       "      <td>1.285714</td>\n",
       "      <td>46.428571</td>\n",
       "      <td>4.571429</td>\n",
       "      <td>77.0</td>\n",
       "      <td>75659.5</td>\n",
       "    </tr>\n",
       "    <tr>\n",
       "      <th>카타르</th>\n",
       "      <td>15.857143</td>\n",
       "      <td>1.285714</td>\n",
       "      <td>49.285714</td>\n",
       "      <td>4.571429</td>\n",
       "      <td>89.0</td>\n",
       "      <td>74331.0</td>\n",
       "    </tr>\n",
       "    <tr>\n",
       "      <th>쿠웨이트</th>\n",
       "      <td>13.833333</td>\n",
       "      <td>0.333333</td>\n",
       "      <td>50.666667</td>\n",
       "      <td>2.166667</td>\n",
       "      <td>117.5</td>\n",
       "      <td>7749.0</td>\n",
       "    </tr>\n",
       "    <tr>\n",
       "      <th>팔레스타인</th>\n",
       "      <td>13.000000</td>\n",
       "      <td>0.333333</td>\n",
       "      <td>41.333333</td>\n",
       "      <td>2.000000</td>\n",
       "      <td>134.0</td>\n",
       "      <td>1825.0</td>\n",
       "    </tr>\n",
       "    <tr>\n",
       "      <th>한국</th>\n",
       "      <td>15.416667</td>\n",
       "      <td>1.750000</td>\n",
       "      <td>52.500000</td>\n",
       "      <td>6.500000</td>\n",
       "      <td>41.0</td>\n",
       "      <td>2307715.5</td>\n",
       "    </tr>\n",
       "  </tbody>\n",
       "</table>\n",
       "</div>"
      ],
      "text/plain": [
       "              foul      goal  possession     shoot   rank     salary\n",
       "team                                                                \n",
       "바레인      17.833333  1.500000   48.000000  5.666667   35.0    66162.5\n",
       "북한       16.166667  0.333333   44.833333  3.333333  114.5   118777.0\n",
       "사우디아라비아  11.500000  1.000000   56.333333  3.333333   89.0   294800.0\n",
       "시리아      18.666667  1.333333   49.333333  4.666667  106.0   138091.0\n",
       "아랍에미리트   12.222222  1.444444   51.888889  3.444444   89.0    72780.5\n",
       "오만       11.000000  0.333333   34.666667  2.000000  104.0   165857.0\n",
       "오스트레일리아  17.500000  2.166667   54.833333  7.416667   60.0  3222497.5\n",
       "요르단      15.142857  1.428571   39.714286  3.000000   84.0     4106.0\n",
       "우즈베키스탄   17.900000  1.500000   54.600000  4.600000   73.5   583492.0\n",
       "이라크      19.200000  1.200000   49.500000  4.300000   90.0     7852.0\n",
       "이란       17.375000  1.625000   45.500000  4.000000   43.5  1246772.5\n",
       "인도       12.666667  1.000000   36.000000  4.000000  160.0     1817.0\n",
       "일본       20.000000  2.300000   60.900000  6.800000   35.0  5601265.0\n",
       "중국       14.000000  1.285714   46.428571  4.571429   77.0    75659.5\n",
       "카타르      15.857143  1.285714   49.285714  4.571429   89.0    74331.0\n",
       "쿠웨이트     13.833333  0.333333   50.666667  2.166667  117.5     7749.0\n",
       "팔레스타인    13.000000  0.333333   41.333333  2.000000  134.0     1825.0\n",
       "한국       15.416667  1.750000   52.500000  6.500000   41.0  2307715.5"
      ]
     },
     "execution_count": 80,
     "metadata": {},
     "output_type": "execute_result"
    }
   ],
   "source": [
    "total_av"
   ]
  },
  {
   "cell_type": "code",
   "execution_count": 81,
   "metadata": {},
   "outputs": [],
   "source": [
    "total_av.to_csv('./total_av.csv',encoding='utf-8')"
   ]
  }
 ],
 "metadata": {
  "kernelspec": {
   "display_name": "Python 3",
   "language": "python",
   "name": "python3"
  },
  "language_info": {
   "codemirror_mode": {
    "name": "ipython",
    "version": 3
   },
   "file_extension": ".py",
   "mimetype": "text/x-python",
   "name": "python",
   "nbconvert_exporter": "python",
   "pygments_lexer": "ipython3",
   "version": "3.7.0"
  }
 },
 "nbformat": 4,
 "nbformat_minor": 2
}
