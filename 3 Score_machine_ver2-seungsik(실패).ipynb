{
 "cells": [
  {
   "cell_type": "code",
   "execution_count": 35,
   "metadata": {},
   "outputs": [],
   "source": [
    "import pandas as pd\n",
    "import numpy as np"
   ]
  },
  {
   "cell_type": "code",
   "execution_count": 37,
   "metadata": {},
   "outputs": [
    {
     "data": {
      "text/html": [
       "<div>\n",
       "<style scoped>\n",
       "    .dataframe tbody tr th:only-of-type {\n",
       "        vertical-align: middle;\n",
       "    }\n",
       "\n",
       "    .dataframe tbody tr th {\n",
       "        vertical-align: top;\n",
       "    }\n",
       "\n",
       "    .dataframe thead th {\n",
       "        text-align: right;\n",
       "    }\n",
       "</style>\n",
       "<table border=\"1\" class=\"dataframe\">\n",
       "  <thead>\n",
       "    <tr style=\"text-align: right;\">\n",
       "      <th></th>\n",
       "      <th>국가</th>\n",
       "      <th>유효슈팅</th>\n",
       "      <th>반칙</th>\n",
       "      <th>점유율</th>\n",
       "      <th>날씨</th>\n",
       "      <th>기온</th>\n",
       "      <th>피파랭킹</th>\n",
       "      <th>팀연봉</th>\n",
       "    </tr>\n",
       "  </thead>\n",
       "  <tbody>\n",
       "    <tr>\n",
       "      <th>0</th>\n",
       "      <td>한국</td>\n",
       "      <td>3</td>\n",
       "      <td>19</td>\n",
       "      <td>47</td>\n",
       "      <td>4</td>\n",
       "      <td>24</td>\n",
       "      <td>51</td>\n",
       "      <td>2306476</td>\n",
       "    </tr>\n",
       "    <tr>\n",
       "      <th>1</th>\n",
       "      <td>한국</td>\n",
       "      <td>7</td>\n",
       "      <td>7</td>\n",
       "      <td>53</td>\n",
       "      <td>3</td>\n",
       "      <td>20</td>\n",
       "      <td>51</td>\n",
       "      <td>2306476</td>\n",
       "    </tr>\n",
       "    <tr>\n",
       "      <th>2</th>\n",
       "      <td>한국</td>\n",
       "      <td>7</td>\n",
       "      <td>6</td>\n",
       "      <td>61</td>\n",
       "      <td>4</td>\n",
       "      <td>34</td>\n",
       "      <td>51</td>\n",
       "      <td>2306476</td>\n",
       "    </tr>\n",
       "    <tr>\n",
       "      <th>3</th>\n",
       "      <td>한국</td>\n",
       "      <td>6</td>\n",
       "      <td>14</td>\n",
       "      <td>67</td>\n",
       "      <td>3</td>\n",
       "      <td>19</td>\n",
       "      <td>51</td>\n",
       "      <td>2306476</td>\n",
       "    </tr>\n",
       "    <tr>\n",
       "      <th>4</th>\n",
       "      <td>한국</td>\n",
       "      <td>3</td>\n",
       "      <td>13</td>\n",
       "      <td>33</td>\n",
       "      <td>1</td>\n",
       "      <td>29</td>\n",
       "      <td>51</td>\n",
       "      <td>2306476</td>\n",
       "    </tr>\n",
       "  </tbody>\n",
       "</table>\n",
       "</div>"
      ],
      "text/plain": [
       "   국가  유효슈팅  반칙  점유율  날씨  기온  피파랭킹      팀연봉\n",
       "0  한국     3  19   47   4  24    51  2306476\n",
       "1  한국     7   7   53   3  20    51  2306476\n",
       "2  한국     7   6   61   4  34    51  2306476\n",
       "3  한국     6  14   67   3  19    51  2306476\n",
       "4  한국     3  13   33   1  29    51  2306476"
      ]
     },
     "execution_count": 37,
     "metadata": {},
     "output_type": "execute_result"
    }
   ],
   "source": [
    "korea = pd.read_csv('./nationseperate_Korea_190214.csv')\n",
    "korea = korea.drop(columns='기간')\n",
    "korea.head()"
   ]
  },
  {
   "cell_type": "code",
   "execution_count": 38,
   "metadata": {},
   "outputs": [
    {
     "data": {
      "text/html": [
       "<div>\n",
       "<style scoped>\n",
       "    .dataframe tbody tr th:only-of-type {\n",
       "        vertical-align: middle;\n",
       "    }\n",
       "\n",
       "    .dataframe tbody tr th {\n",
       "        vertical-align: top;\n",
       "    }\n",
       "\n",
       "    .dataframe thead th {\n",
       "        text-align: right;\n",
       "    }\n",
       "</style>\n",
       "<table border=\"1\" class=\"dataframe\">\n",
       "  <thead>\n",
       "    <tr style=\"text-align: right;\">\n",
       "      <th></th>\n",
       "      <th>국가</th>\n",
       "      <th>유효슈팅</th>\n",
       "      <th>반칙</th>\n",
       "      <th>점유율</th>\n",
       "      <th>날씨</th>\n",
       "      <th>기온</th>\n",
       "      <th>피파랭킹</th>\n",
       "      <th>팀연봉</th>\n",
       "    </tr>\n",
       "  </thead>\n",
       "  <tbody>\n",
       "    <tr>\n",
       "      <th>0</th>\n",
       "      <td>오스트레일리아</td>\n",
       "      <td>3</td>\n",
       "      <td>15</td>\n",
       "      <td>53</td>\n",
       "      <td>3</td>\n",
       "      <td>19</td>\n",
       "      <td>100</td>\n",
       "      <td>1534325</td>\n",
       "    </tr>\n",
       "    <tr>\n",
       "      <th>1</th>\n",
       "      <td>오스트레일리아</td>\n",
       "      <td>6</td>\n",
       "      <td>19</td>\n",
       "      <td>67</td>\n",
       "      <td>1</td>\n",
       "      <td>29</td>\n",
       "      <td>100</td>\n",
       "      <td>1534325</td>\n",
       "    </tr>\n",
       "    <tr>\n",
       "      <th>2</th>\n",
       "      <td>오스트레일리아</td>\n",
       "      <td>8</td>\n",
       "      <td>19</td>\n",
       "      <td>60</td>\n",
       "      <td>3</td>\n",
       "      <td>16</td>\n",
       "      <td>100</td>\n",
       "      <td>1534325</td>\n",
       "    </tr>\n",
       "    <tr>\n",
       "      <th>3</th>\n",
       "      <td>오스트레일리아</td>\n",
       "      <td>4</td>\n",
       "      <td>26</td>\n",
       "      <td>53</td>\n",
       "      <td>4</td>\n",
       "      <td>24</td>\n",
       "      <td>100</td>\n",
       "      <td>1534325</td>\n",
       "    </tr>\n",
       "    <tr>\n",
       "      <th>4</th>\n",
       "      <td>오스트레일리아</td>\n",
       "      <td>9</td>\n",
       "      <td>8</td>\n",
       "      <td>66</td>\n",
       "      <td>3</td>\n",
       "      <td>25</td>\n",
       "      <td>100</td>\n",
       "      <td>1534325</td>\n",
       "    </tr>\n",
       "  </tbody>\n",
       "</table>\n",
       "</div>"
      ],
      "text/plain": [
       "        국가  유효슈팅  반칙  점유율  날씨  기온  피파랭킹      팀연봉\n",
       "0  오스트레일리아     3  15   53   3  19   100  1534325\n",
       "1  오스트레일리아     6  19   67   1  29   100  1534325\n",
       "2  오스트레일리아     8  19   60   3  16   100  1534325\n",
       "3  오스트레일리아     4  26   53   4  24   100  1534325\n",
       "4  오스트레일리아     9   8   66   3  25   100  1534325"
      ]
     },
     "execution_count": 38,
     "metadata": {},
     "output_type": "execute_result"
    }
   ],
   "source": [
    "australia = pd.read_csv('./nationseperate_Australia_190214.csv')\n",
    "australia = australia.drop(columns='기간')\n",
    "australia.head()"
   ]
  },
  {
   "cell_type": "code",
   "execution_count": 39,
   "metadata": {},
   "outputs": [],
   "source": [
    "# 컬럼별로 숫자가 높을 수록 좋은건지 안 좋은 건지 바꿔줘야함(통일시켜야함)\n",
    "# 반칙 수, 랭킹 => 높을수록 안좋음...\n",
    "# 랭킹은 211위가 꼴찌라 212에서 빼면 역순.\n",
    "korea['피파랭킹'] = 212-korea['피파랭킹']\n",
    "australia['피파랭킹'] = 212-australia['피파랭킹']\n"
   ]
  },
  {
   "cell_type": "code",
   "execution_count": 40,
   "metadata": {},
   "outputs": [],
   "source": [
    "# 위에 값이 이상해서 그냥 -를 붙여보자\n",
    "korea['반칙'] = -korea['반칙']\n",
    "australia['반칙'] = -australia['반칙']"
   ]
  },
  {
   "cell_type": "code",
   "execution_count": 41,
   "metadata": {},
   "outputs": [],
   "source": [
    "# pd.set_option('display.float_format', '{:.5f}'.format) 지수없애기"
   ]
  },
  {
   "cell_type": "code",
   "execution_count": 44,
   "metadata": {
    "scrolled": true
   },
   "outputs": [],
   "source": [
    "# 날씨, 국가는 카테고리로 일단 바꾸기\n",
    "korea['날씨'] = korea['날씨'].astype('category')\n",
    "korea['국가'] = korea['국가'].astype('category')\n",
    "\n",
    "australia['날씨'] = australia['날씨'].astype('category')\n",
    "australia['국가'] = australia['국가'].astype('category')"
   ]
  },
  {
   "cell_type": "code",
   "execution_count": 45,
   "metadata": {},
   "outputs": [
    {
     "data": {
      "text/html": [
       "<div>\n",
       "<style scoped>\n",
       "    .dataframe tbody tr th:only-of-type {\n",
       "        vertical-align: middle;\n",
       "    }\n",
       "\n",
       "    .dataframe tbody tr th {\n",
       "        vertical-align: top;\n",
       "    }\n",
       "\n",
       "    .dataframe thead th {\n",
       "        text-align: right;\n",
       "    }\n",
       "</style>\n",
       "<table border=\"1\" class=\"dataframe\">\n",
       "  <thead>\n",
       "    <tr style=\"text-align: right;\">\n",
       "      <th></th>\n",
       "      <th>국가</th>\n",
       "      <th>유효슈팅</th>\n",
       "      <th>반칙</th>\n",
       "      <th>점유율</th>\n",
       "      <th>날씨</th>\n",
       "      <th>기온</th>\n",
       "      <th>피파랭킹</th>\n",
       "      <th>팀연봉</th>\n",
       "    </tr>\n",
       "  </thead>\n",
       "  <tbody>\n",
       "    <tr>\n",
       "      <th>0</th>\n",
       "      <td>한국</td>\n",
       "      <td>3</td>\n",
       "      <td>-19</td>\n",
       "      <td>47</td>\n",
       "      <td>4</td>\n",
       "      <td>24</td>\n",
       "      <td>161</td>\n",
       "      <td>2306476</td>\n",
       "    </tr>\n",
       "    <tr>\n",
       "      <th>1</th>\n",
       "      <td>한국</td>\n",
       "      <td>7</td>\n",
       "      <td>-7</td>\n",
       "      <td>53</td>\n",
       "      <td>3</td>\n",
       "      <td>20</td>\n",
       "      <td>161</td>\n",
       "      <td>2306476</td>\n",
       "    </tr>\n",
       "    <tr>\n",
       "      <th>2</th>\n",
       "      <td>한국</td>\n",
       "      <td>7</td>\n",
       "      <td>-6</td>\n",
       "      <td>61</td>\n",
       "      <td>4</td>\n",
       "      <td>34</td>\n",
       "      <td>161</td>\n",
       "      <td>2306476</td>\n",
       "    </tr>\n",
       "    <tr>\n",
       "      <th>3</th>\n",
       "      <td>한국</td>\n",
       "      <td>6</td>\n",
       "      <td>-14</td>\n",
       "      <td>67</td>\n",
       "      <td>3</td>\n",
       "      <td>19</td>\n",
       "      <td>161</td>\n",
       "      <td>2306476</td>\n",
       "    </tr>\n",
       "    <tr>\n",
       "      <th>4</th>\n",
       "      <td>한국</td>\n",
       "      <td>3</td>\n",
       "      <td>-13</td>\n",
       "      <td>33</td>\n",
       "      <td>1</td>\n",
       "      <td>29</td>\n",
       "      <td>161</td>\n",
       "      <td>2306476</td>\n",
       "    </tr>\n",
       "  </tbody>\n",
       "</table>\n",
       "</div>"
      ],
      "text/plain": [
       "   국가  유효슈팅  반칙  점유율 날씨  기온  피파랭킹      팀연봉\n",
       "0  한국     3 -19   47  4  24   161  2306476\n",
       "1  한국     7  -7   53  3  20   161  2306476\n",
       "2  한국     7  -6   61  4  34   161  2306476\n",
       "3  한국     6 -14   67  3  19   161  2306476\n",
       "4  한국     3 -13   33  1  29   161  2306476"
      ]
     },
     "execution_count": 45,
     "metadata": {},
     "output_type": "execute_result"
    }
   ],
   "source": [
    "korea.head()"
   ]
  },
  {
   "cell_type": "code",
   "execution_count": 46,
   "metadata": {},
   "outputs": [
    {
     "data": {
      "text/html": [
       "<div>\n",
       "<style scoped>\n",
       "    .dataframe tbody tr th:only-of-type {\n",
       "        vertical-align: middle;\n",
       "    }\n",
       "\n",
       "    .dataframe tbody tr th {\n",
       "        vertical-align: top;\n",
       "    }\n",
       "\n",
       "    .dataframe thead th {\n",
       "        text-align: right;\n",
       "    }\n",
       "</style>\n",
       "<table border=\"1\" class=\"dataframe\">\n",
       "  <thead>\n",
       "    <tr style=\"text-align: right;\">\n",
       "      <th></th>\n",
       "      <th>국가</th>\n",
       "      <th>유효슈팅</th>\n",
       "      <th>반칙</th>\n",
       "      <th>점유율</th>\n",
       "      <th>날씨</th>\n",
       "      <th>기온</th>\n",
       "      <th>피파랭킹</th>\n",
       "      <th>팀연봉</th>\n",
       "    </tr>\n",
       "  </thead>\n",
       "  <tbody>\n",
       "    <tr>\n",
       "      <th>0</th>\n",
       "      <td>오스트레일리아</td>\n",
       "      <td>3</td>\n",
       "      <td>-15</td>\n",
       "      <td>53</td>\n",
       "      <td>3</td>\n",
       "      <td>19</td>\n",
       "      <td>112</td>\n",
       "      <td>1534325</td>\n",
       "    </tr>\n",
       "    <tr>\n",
       "      <th>1</th>\n",
       "      <td>오스트레일리아</td>\n",
       "      <td>6</td>\n",
       "      <td>-19</td>\n",
       "      <td>67</td>\n",
       "      <td>1</td>\n",
       "      <td>29</td>\n",
       "      <td>112</td>\n",
       "      <td>1534325</td>\n",
       "    </tr>\n",
       "    <tr>\n",
       "      <th>2</th>\n",
       "      <td>오스트레일리아</td>\n",
       "      <td>8</td>\n",
       "      <td>-19</td>\n",
       "      <td>60</td>\n",
       "      <td>3</td>\n",
       "      <td>16</td>\n",
       "      <td>112</td>\n",
       "      <td>1534325</td>\n",
       "    </tr>\n",
       "    <tr>\n",
       "      <th>3</th>\n",
       "      <td>오스트레일리아</td>\n",
       "      <td>4</td>\n",
       "      <td>-26</td>\n",
       "      <td>53</td>\n",
       "      <td>4</td>\n",
       "      <td>24</td>\n",
       "      <td>112</td>\n",
       "      <td>1534325</td>\n",
       "    </tr>\n",
       "    <tr>\n",
       "      <th>4</th>\n",
       "      <td>오스트레일리아</td>\n",
       "      <td>9</td>\n",
       "      <td>-8</td>\n",
       "      <td>66</td>\n",
       "      <td>3</td>\n",
       "      <td>25</td>\n",
       "      <td>112</td>\n",
       "      <td>1534325</td>\n",
       "    </tr>\n",
       "  </tbody>\n",
       "</table>\n",
       "</div>"
      ],
      "text/plain": [
       "        국가  유효슈팅  반칙  점유율 날씨  기온  피파랭킹      팀연봉\n",
       "0  오스트레일리아     3 -15   53  3  19   112  1534325\n",
       "1  오스트레일리아     6 -19   67  1  29   112  1534325\n",
       "2  오스트레일리아     8 -19   60  3  16   112  1534325\n",
       "3  오스트레일리아     4 -26   53  4  24   112  1534325\n",
       "4  오스트레일리아     9  -8   66  3  25   112  1534325"
      ]
     },
     "execution_count": 46,
     "metadata": {},
     "output_type": "execute_result"
    }
   ],
   "source": [
    "australia.head()"
   ]
  },
  {
   "cell_type": "code",
   "execution_count": 47,
   "metadata": {},
   "outputs": [],
   "source": [
    "# 테스트 : 연봉 값을 표준화해서 해보자\n",
    "australia['팀연봉'] = np.log1p(australia['팀연봉'])\n",
    "australia['예측값'] = australia['유효슈팅'] + australia['반칙'] + australia['점유율'] + australia['기온'] + australia['피파랭킹'] + np.log1p(australia['팀연봉'])\n",
    "\n",
    "korea['팀연봉'] = np.log1p(korea['팀연봉'])\n",
    "korea['예측값'] = korea['유효슈팅'] + korea['반칙'] + korea['점유율'] + korea['기온'] + korea['피파랭킹'] + np.log1p(korea['팀연봉'])"
   ]
  },
  {
   "cell_type": "code",
   "execution_count": 59,
   "metadata": {},
   "outputs": [
    {
     "data": {
      "text/html": [
       "<div>\n",
       "<style scoped>\n",
       "    .dataframe tbody tr th:only-of-type {\n",
       "        vertical-align: middle;\n",
       "    }\n",
       "\n",
       "    .dataframe tbody tr th {\n",
       "        vertical-align: top;\n",
       "    }\n",
       "\n",
       "    .dataframe thead th {\n",
       "        text-align: right;\n",
       "    }\n",
       "</style>\n",
       "<table border=\"1\" class=\"dataframe\">\n",
       "  <thead>\n",
       "    <tr style=\"text-align: right;\">\n",
       "      <th></th>\n",
       "      <th>유효슈팅</th>\n",
       "      <th>반칙</th>\n",
       "      <th>점유율</th>\n",
       "      <th>날씨</th>\n",
       "      <th>기온</th>\n",
       "      <th>피파랭킹</th>\n",
       "      <th>팀연봉</th>\n",
       "      <th>예측값</th>\n",
       "    </tr>\n",
       "    <tr>\n",
       "      <th>국가</th>\n",
       "      <th></th>\n",
       "      <th></th>\n",
       "      <th></th>\n",
       "      <th></th>\n",
       "      <th></th>\n",
       "      <th></th>\n",
       "      <th></th>\n",
       "      <th></th>\n",
       "    </tr>\n",
       "  </thead>\n",
       "  <tbody>\n",
       "    <tr>\n",
       "      <th>한국</th>\n",
       "      <td>3</td>\n",
       "      <td>-19</td>\n",
       "      <td>47</td>\n",
       "      <td>4</td>\n",
       "      <td>24</td>\n",
       "      <td>161</td>\n",
       "      <td>14.651232</td>\n",
       "      <td>218.75055</td>\n",
       "    </tr>\n",
       "    <tr>\n",
       "      <th>한국</th>\n",
       "      <td>7</td>\n",
       "      <td>-7</td>\n",
       "      <td>53</td>\n",
       "      <td>3</td>\n",
       "      <td>20</td>\n",
       "      <td>161</td>\n",
       "      <td>14.651232</td>\n",
       "      <td>236.75055</td>\n",
       "    </tr>\n",
       "    <tr>\n",
       "      <th>한국</th>\n",
       "      <td>7</td>\n",
       "      <td>-6</td>\n",
       "      <td>61</td>\n",
       "      <td>4</td>\n",
       "      <td>34</td>\n",
       "      <td>161</td>\n",
       "      <td>14.651232</td>\n",
       "      <td>259.75055</td>\n",
       "    </tr>\n",
       "    <tr>\n",
       "      <th>한국</th>\n",
       "      <td>6</td>\n",
       "      <td>-14</td>\n",
       "      <td>67</td>\n",
       "      <td>3</td>\n",
       "      <td>19</td>\n",
       "      <td>161</td>\n",
       "      <td>14.651232</td>\n",
       "      <td>241.75055</td>\n",
       "    </tr>\n",
       "    <tr>\n",
       "      <th>한국</th>\n",
       "      <td>3</td>\n",
       "      <td>-13</td>\n",
       "      <td>33</td>\n",
       "      <td>1</td>\n",
       "      <td>29</td>\n",
       "      <td>161</td>\n",
       "      <td>14.651232</td>\n",
       "      <td>215.75055</td>\n",
       "    </tr>\n",
       "  </tbody>\n",
       "</table>\n",
       "</div>"
      ],
      "text/plain": [
       "    유효슈팅  반칙  점유율 날씨  기온  피파랭킹        팀연봉        예측값\n",
       "국가                                                  \n",
       "한국     3 -19   47  4  24   161  14.651232  218.75055\n",
       "한국     7  -7   53  3  20   161  14.651232  236.75055\n",
       "한국     7  -6   61  4  34   161  14.651232  259.75055\n",
       "한국     6 -14   67  3  19   161  14.651232  241.75055\n",
       "한국     3 -13   33  1  29   161  14.651232  215.75055"
      ]
     },
     "execution_count": 59,
     "metadata": {},
     "output_type": "execute_result"
    }
   ],
   "source": [
    "korea = korea.set_index('국가')\n",
    "korea.head()"
   ]
  },
  {
   "cell_type": "code",
   "execution_count": 60,
   "metadata": {},
   "outputs": [
    {
     "data": {
      "text/html": [
       "<div>\n",
       "<style scoped>\n",
       "    .dataframe tbody tr th:only-of-type {\n",
       "        vertical-align: middle;\n",
       "    }\n",
       "\n",
       "    .dataframe tbody tr th {\n",
       "        vertical-align: top;\n",
       "    }\n",
       "\n",
       "    .dataframe thead th {\n",
       "        text-align: right;\n",
       "    }\n",
       "</style>\n",
       "<table border=\"1\" class=\"dataframe\">\n",
       "  <thead>\n",
       "    <tr style=\"text-align: right;\">\n",
       "      <th></th>\n",
       "      <th>유효슈팅</th>\n",
       "      <th>반칙</th>\n",
       "      <th>점유율</th>\n",
       "      <th>날씨</th>\n",
       "      <th>기온</th>\n",
       "      <th>피파랭킹</th>\n",
       "      <th>팀연봉</th>\n",
       "      <th>예측값</th>\n",
       "    </tr>\n",
       "    <tr>\n",
       "      <th>국가</th>\n",
       "      <th></th>\n",
       "      <th></th>\n",
       "      <th></th>\n",
       "      <th></th>\n",
       "      <th></th>\n",
       "      <th></th>\n",
       "      <th></th>\n",
       "      <th></th>\n",
       "    </tr>\n",
       "  </thead>\n",
       "  <tbody>\n",
       "    <tr>\n",
       "      <th>오스트레일리아</th>\n",
       "      <td>3</td>\n",
       "      <td>-15</td>\n",
       "      <td>53</td>\n",
       "      <td>3</td>\n",
       "      <td>19</td>\n",
       "      <td>112</td>\n",
       "      <td>14.243602</td>\n",
       "      <td>174.72416</td>\n",
       "    </tr>\n",
       "    <tr>\n",
       "      <th>오스트레일리아</th>\n",
       "      <td>6</td>\n",
       "      <td>-19</td>\n",
       "      <td>67</td>\n",
       "      <td>1</td>\n",
       "      <td>29</td>\n",
       "      <td>112</td>\n",
       "      <td>14.243602</td>\n",
       "      <td>197.72416</td>\n",
       "    </tr>\n",
       "    <tr>\n",
       "      <th>오스트레일리아</th>\n",
       "      <td>8</td>\n",
       "      <td>-19</td>\n",
       "      <td>60</td>\n",
       "      <td>3</td>\n",
       "      <td>16</td>\n",
       "      <td>112</td>\n",
       "      <td>14.243602</td>\n",
       "      <td>179.72416</td>\n",
       "    </tr>\n",
       "    <tr>\n",
       "      <th>오스트레일리아</th>\n",
       "      <td>4</td>\n",
       "      <td>-26</td>\n",
       "      <td>53</td>\n",
       "      <td>4</td>\n",
       "      <td>24</td>\n",
       "      <td>112</td>\n",
       "      <td>14.243602</td>\n",
       "      <td>169.72416</td>\n",
       "    </tr>\n",
       "    <tr>\n",
       "      <th>오스트레일리아</th>\n",
       "      <td>9</td>\n",
       "      <td>-8</td>\n",
       "      <td>66</td>\n",
       "      <td>3</td>\n",
       "      <td>25</td>\n",
       "      <td>112</td>\n",
       "      <td>14.243602</td>\n",
       "      <td>206.72416</td>\n",
       "    </tr>\n",
       "  </tbody>\n",
       "</table>\n",
       "</div>"
      ],
      "text/plain": [
       "         유효슈팅  반칙  점유율 날씨  기온  피파랭킹        팀연봉        예측값\n",
       "국가                                                       \n",
       "오스트레일리아     3 -15   53  3  19   112  14.243602  174.72416\n",
       "오스트레일리아     6 -19   67  1  29   112  14.243602  197.72416\n",
       "오스트레일리아     8 -19   60  3  16   112  14.243602  179.72416\n",
       "오스트레일리아     4 -26   53  4  24   112  14.243602  169.72416\n",
       "오스트레일리아     9  -8   66  3  25   112  14.243602  206.72416"
      ]
     },
     "execution_count": 60,
     "metadata": {},
     "output_type": "execute_result"
    }
   ],
   "source": [
    "australia = australia.set_index('국가')\n",
    "australia.head()"
   ]
  },
  {
   "cell_type": "code",
   "execution_count": 50,
   "metadata": {},
   "outputs": [],
   "source": [
    "from sklearn.model_selection import train_test_split"
   ]
  },
  {
   "cell_type": "code",
   "execution_count": 79,
   "metadata": {},
   "outputs": [],
   "source": [
    "# 한국 통으로\n",
    "X_train = korea[['유효슈팅','반칙','점유율','날씨','기온','피파랭킹','팀연봉']]\n",
    "Y_train = korea['예측값']"
   ]
  },
  {
   "cell_type": "code",
   "execution_count": 80,
   "metadata": {},
   "outputs": [
    {
     "name": "stdout",
     "output_type": "stream",
     "text": [
      "(12, 7)\n",
      "(12,)\n"
     ]
    }
   ],
   "source": [
    "print(X_train.shape) \n",
    "print(Y_train.shape) "
   ]
  },
  {
   "cell_type": "code",
   "execution_count": 81,
   "metadata": {},
   "outputs": [],
   "source": [
    "# 호주 통으로\n",
    "X_test = australia[['유효슈팅','반칙','점유율','날씨','기온','피파랭킹','팀연봉']]\n",
    "Y_test = australia['예측값']"
   ]
  },
  {
   "cell_type": "code",
   "execution_count": 82,
   "metadata": {},
   "outputs": [
    {
     "name": "stdout",
     "output_type": "stream",
     "text": [
      "(12, 7)\n",
      "(12,)\n"
     ]
    }
   ],
   "source": [
    "print(X_test.shape) \n",
    "print(Y_test.shape) "
   ]
  },
  {
   "cell_type": "code",
   "execution_count": 83,
   "metadata": {},
   "outputs": [
    {
     "data": {
      "text/plain": [
       "make_scorer(rmsle)"
      ]
     },
     "execution_count": 83,
     "metadata": {},
     "output_type": "execute_result"
    }
   ],
   "source": [
    "# RMSLE\n",
    "from sklearn.metrics import make_scorer\n",
    "def rmsle(predicted_values, actual_values):\n",
    "    # Numpy로 배열 형태로 변경\n",
    "    predicted_values = np.array(predicted_values)\n",
    "    actual_values = np.array(actual_values)\n",
    "    \n",
    "    # 에측값과 실제값에 1을 더하고 log를 씌운다.\n",
    "    log_predict = np.log(predicted_values + 1)\n",
    "    log_actual = np.log(actual_values + 1)\n",
    "    \n",
    "    # 위에서 계싼된 예측값에서 실제값을 빼주고 제곱을 해준다.\n",
    "    difference = log_predict - log_actual\n",
    "    difference = np.square(difference)\n",
    "    \n",
    "    # 평균을 구한다\n",
    "    mean_difference = difference.mean()\n",
    "    \n",
    "    # 루트를 씌운다\n",
    "    score = np.sqrt(mean_difference)\n",
    "    \n",
    "    return score\n",
    "\n",
    "rmsle_scorer = make_scorer(rmsle)\n",
    "rmsle_scorer"
   ]
  },
  {
   "cell_type": "code",
   "execution_count": 84,
   "metadata": {},
   "outputs": [],
   "source": [
    "from sklearn.model_selection import KFold\n",
    "from sklearn.model_selection import cross_val_score\n",
    "\n",
    "k_fold = KFold(n_splits = 10, shuffle = True, random_state = 0) # 고정된 상태로 10번 섞어서 테스트해라"
   ]
  },
  {
   "cell_type": "code",
   "execution_count": 85,
   "metadata": {},
   "outputs": [],
   "source": [
    "from sklearn.ensemble import RandomForestRegressor\n",
    "from sklearn.ensemble import GradientBoostingRegressor"
   ]
  },
  {
   "cell_type": "code",
   "execution_count": 86,
   "metadata": {},
   "outputs": [
    {
     "data": {
      "text/plain": [
       "GradientBoostingRegressor(alpha=0.1, criterion='friedman_mse', init=None,\n",
       "             learning_rate=0.1, loss='ls', max_depth=3, max_features=None,\n",
       "             max_leaf_nodes=None, min_impurity_decrease=0.0,\n",
       "             min_impurity_split=None, min_samples_leaf=1,\n",
       "             min_samples_split=2, min_weight_fraction_leaf=0.0,\n",
       "             n_estimators=1000, n_iter_no_change=None, presort='auto',\n",
       "             random_state=0, subsample=1.0, tol=0.0001,\n",
       "             validation_fraction=0.1, verbose=0, warm_start=False)"
      ]
     },
     "execution_count": 86,
     "metadata": {},
     "output_type": "execute_result"
    }
   ],
   "source": [
    "model = GradientBoostingRegressor(n_estimators=1000,alpha=0.1, random_state=0) # 초기값은 1000, alpha(10%씩줄이며 시도)\n",
    "# model = RandomForestRegressor(n_estimators=100, n_jobs=-1,random_state=0)\n",
    "model"
   ]
  },
  {
   "cell_type": "code",
   "execution_count": 87,
   "metadata": {},
   "outputs": [
    {
     "data": {
      "text/plain": [
       "GradientBoostingRegressor(alpha=0.1, criterion='friedman_mse', init=None,\n",
       "             learning_rate=0.1, loss='ls', max_depth=3, max_features=None,\n",
       "             max_leaf_nodes=None, min_impurity_decrease=0.0,\n",
       "             min_impurity_split=None, min_samples_leaf=1,\n",
       "             min_samples_split=2, min_weight_fraction_leaf=0.0,\n",
       "             n_estimators=1000, n_iter_no_change=None, presort='auto',\n",
       "             random_state=0, subsample=1.0, tol=0.0001,\n",
       "             validation_fraction=0.1, verbose=0, warm_start=False)"
      ]
     },
     "execution_count": 87,
     "metadata": {},
     "output_type": "execute_result"
    }
   ],
   "source": [
    "model2 = GradientBoostingRegressor(n_estimators=1000,alpha=0.1, random_state=0) # 초기값은 1000, alpha(10%씩줄이며 시도)\n",
    "# model = RandomForestRegressor(n_estimators=100, n_jobs=-1,random_state=0)\n",
    "model2"
   ]
  },
  {
   "cell_type": "code",
   "execution_count": 88,
   "metadata": {},
   "outputs": [
    {
     "data": {
      "text/plain": [
       "GradientBoostingRegressor(alpha=0.1, criterion='friedman_mse', init=None,\n",
       "             learning_rate=0.1, loss='ls', max_depth=3, max_features=None,\n",
       "             max_leaf_nodes=None, min_impurity_decrease=0.0,\n",
       "             min_impurity_split=None, min_samples_leaf=1,\n",
       "             min_samples_split=2, min_weight_fraction_leaf=0.0,\n",
       "             n_estimators=1000, n_iter_no_change=None, presort='auto',\n",
       "             random_state=0, subsample=1.0, tol=0.0001,\n",
       "             validation_fraction=0.1, verbose=0, warm_start=False)"
      ]
     },
     "execution_count": 88,
     "metadata": {},
     "output_type": "execute_result"
    }
   ],
   "source": [
    "# Training\n",
    "model.fit(X_train, Y_train)"
   ]
  },
  {
   "cell_type": "code",
   "execution_count": 89,
   "metadata": {},
   "outputs": [
    {
     "data": {
      "text/plain": [
       "GradientBoostingRegressor(alpha=0.1, criterion='friedman_mse', init=None,\n",
       "             learning_rate=0.1, loss='ls', max_depth=3, max_features=None,\n",
       "             max_leaf_nodes=None, min_impurity_decrease=0.0,\n",
       "             min_impurity_split=None, min_samples_leaf=1,\n",
       "             min_samples_split=2, min_weight_fraction_leaf=0.0,\n",
       "             n_estimators=1000, n_iter_no_change=None, presort='auto',\n",
       "             random_state=0, subsample=1.0, tol=0.0001,\n",
       "             validation_fraction=0.1, verbose=0, warm_start=False)"
      ]
     },
     "execution_count": 89,
     "metadata": {},
     "output_type": "execute_result"
    }
   ],
   "source": [
    "# Training\n",
    "model2.fit(X_test, Y_test)"
   ]
  },
  {
   "cell_type": "code",
   "execution_count": 73,
   "metadata": {},
   "outputs": [],
   "source": [
    "# %time score = cross_val_score(model, X_train, Y_train, cv = k_fold, scoring = rmsle_scorer)\n",
    "# score = score.mean()\n",
    "# print(\"Score = \", score)"
   ]
  },
  {
   "cell_type": "code",
   "execution_count": 110,
   "metadata": {},
   "outputs": [
    {
     "name": "stdout",
     "output_type": "stream",
     "text": [
      "[221.91378705]\n"
     ]
    }
   ],
   "source": [
    "# 예측\n",
    "pre = model.predict([[3,-19,47,1,23,50,13]])\n",
    "print(pre)"
   ]
  },
  {
   "cell_type": "code",
   "execution_count": 111,
   "metadata": {},
   "outputs": [
    {
     "name": "stdout",
     "output_type": "stream",
     "text": [
      "[171.43139091]\n"
     ]
    }
   ],
   "source": [
    "# 예측\n",
    "pre2 = model2.predict([[4,-26,53,1,23,50,13]])\n",
    "print(pre2)"
   ]
  },
  {
   "cell_type": "code",
   "execution_count": 96,
   "metadata": {},
   "outputs": [],
   "source": [
    "# import matplotlib as mpl\n",
    "# import matplotlib.pyplot as plt\n",
    "# import seaborn as sns\n",
    "# %matplotlib inline\n",
    "\n",
    "# import warnings\n",
    "# warnings.filterwarnings('ignore')"
   ]
  },
  {
   "cell_type": "code",
   "execution_count": 109,
   "metadata": {},
   "outputs": [],
   "source": [
    "# # 예측한 데이터를 시각화\n",
    "# fig, (ax1, ax2) = plt.subplots(ncols=2)\n",
    "# fig.set_size_inches(12, 5)\n",
    "# sns.distplot(Y_train, ax = ax1, bins=50) # 50개정도로 나눔\n",
    "# ax1.set(title = 'Train')\n",
    "# sns.distplot(pre, ax = ax2, bins = 50)\n",
    "# ax2.set(title = 'Test')"
   ]
  },
  {
   "cell_type": "code",
   "execution_count": null,
   "metadata": {},
   "outputs": [],
   "source": []
  }
 ],
 "metadata": {
  "kernelspec": {
   "display_name": "Python 3",
   "language": "python",
   "name": "python3"
  },
  "language_info": {
   "codemirror_mode": {
    "name": "ipython",
    "version": 3
   },
   "file_extension": ".py",
   "mimetype": "text/x-python",
   "name": "python",
   "nbconvert_exporter": "python",
   "pygments_lexer": "ipython3",
   "version": "3.7.2"
  }
 },
 "nbformat": 4,
 "nbformat_minor": 2
}
