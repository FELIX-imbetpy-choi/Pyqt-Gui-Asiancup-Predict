{
 "cells": [
  {
   "cell_type": "code",
   "execution_count": 1,
   "metadata": {},
   "outputs": [],
   "source": [
    "%matplotlib inline\n",
    "import numpy as np\n",
    "import pandas as pd\n",
    "import matplotlib\n",
    "import matplotlib.pyplot as plt"
   ]
  },
  {
   "cell_type": "code",
   "execution_count": 2,
   "metadata": {},
   "outputs": [
    {
     "data": {
      "text/html": [
       "<div>\n",
       "<style scoped>\n",
       "    .dataframe tbody tr th:only-of-type {\n",
       "        vertical-align: middle;\n",
       "    }\n",
       "\n",
       "    .dataframe tbody tr th {\n",
       "        vertical-align: top;\n",
       "    }\n",
       "\n",
       "    .dataframe thead th {\n",
       "        text-align: right;\n",
       "    }\n",
       "</style>\n",
       "<table border=\"1\" class=\"dataframe\">\n",
       "  <thead>\n",
       "    <tr style=\"text-align: right;\">\n",
       "      <th></th>\n",
       "      <th>age</th>\n",
       "      <th>cap</th>\n",
       "      <th>goal</th>\n",
       "      <th>height</th>\n",
       "      <th>name</th>\n",
       "      <th>nation</th>\n",
       "      <th>salary</th>\n",
       "    </tr>\n",
       "  </thead>\n",
       "  <tbody>\n",
       "    <tr>\n",
       "      <th>0</th>\n",
       "      <td>31</td>\n",
       "      <td>26</td>\n",
       "      <td>0</td>\n",
       "      <td>184</td>\n",
       "      <td>AliKhaseifA.</td>\n",
       "      <td>U.A.E</td>\n",
       "      <td>270</td>\n",
       "    </tr>\n",
       "    <tr>\n",
       "      <th>1</th>\n",
       "      <td>29</td>\n",
       "      <td>22</td>\n",
       "      <td>0</td>\n",
       "      <td>176</td>\n",
       "      <td>KhalidEisaKhalid</td>\n",
       "      <td>U.A.E</td>\n",
       "      <td>270</td>\n",
       "    </tr>\n",
       "    <tr>\n",
       "      <th>2</th>\n",
       "      <td>22</td>\n",
       "      <td>0</td>\n",
       "      <td>0</td>\n",
       "      <td>185</td>\n",
       "      <td>MohamedAl</td>\n",
       "      <td>U.A.E</td>\n",
       "      <td>225</td>\n",
       "    </tr>\n",
       "    <tr>\n",
       "      <th>3</th>\n",
       "      <td>30</td>\n",
       "      <td>24</td>\n",
       "      <td>0</td>\n",
       "      <td>181</td>\n",
       "      <td>FaresJumaFares</td>\n",
       "      <td>U.A.E</td>\n",
       "      <td>495</td>\n",
       "    </tr>\n",
       "    <tr>\n",
       "      <th>4</th>\n",
       "      <td>29</td>\n",
       "      <td>41</td>\n",
       "      <td>0</td>\n",
       "      <td>183</td>\n",
       "      <td>MohamedAhmadMohamed</td>\n",
       "      <td>U.A.E</td>\n",
       "      <td>360</td>\n",
       "    </tr>\n",
       "  </tbody>\n",
       "</table>\n",
       "</div>"
      ],
      "text/plain": [
       "   age  cap  goal  height                 name nation  salary\n",
       "0   31   26     0     184         AliKhaseifA.  U.A.E     270\n",
       "1   29   22     0     176     KhalidEisaKhalid  U.A.E     270\n",
       "2   22    0     0     185            MohamedAl  U.A.E     225\n",
       "3   30   24     0     181       FaresJumaFares  U.A.E     495\n",
       "4   29   41     0     183  MohamedAhmadMohamed  U.A.E     360"
      ]
     },
     "execution_count": 2,
     "metadata": {},
     "output_type": "execute_result"
    }
   ],
   "source": [
    "# 선수데이터\n",
    "a=pd.read_csv('./total_players.csv')\n",
    "a.head()"
   ]
  },
  {
   "cell_type": "code",
   "execution_count": 3,
   "metadata": {},
   "outputs": [
    {
     "data": {
      "text/html": [
       "<div>\n",
       "<style scoped>\n",
       "    .dataframe tbody tr th:only-of-type {\n",
       "        vertical-align: middle;\n",
       "    }\n",
       "\n",
       "    .dataframe tbody tr th {\n",
       "        vertical-align: top;\n",
       "    }\n",
       "\n",
       "    .dataframe thead th {\n",
       "        text-align: right;\n",
       "    }\n",
       "</style>\n",
       "<table border=\"1\" class=\"dataframe\">\n",
       "  <thead>\n",
       "    <tr style=\"text-align: right;\">\n",
       "      <th></th>\n",
       "      <th>경기날짜</th>\n",
       "      <th>팀</th>\n",
       "      <th>팀1점수</th>\n",
       "      <th>팀2점수</th>\n",
       "      <th>승패</th>\n",
       "      <th>점수차</th>\n",
       "    </tr>\n",
       "  </thead>\n",
       "  <tbody>\n",
       "    <tr>\n",
       "      <th>0</th>\n",
       "      <td>01.02. 23:00</td>\n",
       "      <td>일본</td>\n",
       "      <td>1</td>\n",
       "      <td>3</td>\n",
       "      <td>0</td>\n",
       "      <td>-2</td>\n",
       "    </tr>\n",
       "    <tr>\n",
       "      <th>1</th>\n",
       "      <td>29.01. 23:00</td>\n",
       "      <td>카타르</td>\n",
       "      <td>4</td>\n",
       "      <td>0</td>\n",
       "      <td>2</td>\n",
       "      <td>4</td>\n",
       "    </tr>\n",
       "    <tr>\n",
       "      <th>2</th>\n",
       "      <td>28.01. 23:00</td>\n",
       "      <td>이란</td>\n",
       "      <td>0</td>\n",
       "      <td>3</td>\n",
       "      <td>0</td>\n",
       "      <td>-3</td>\n",
       "    </tr>\n",
       "    <tr>\n",
       "      <th>3</th>\n",
       "      <td>26.01. 01:00</td>\n",
       "      <td>아랍에미리트</td>\n",
       "      <td>1</td>\n",
       "      <td>0</td>\n",
       "      <td>2</td>\n",
       "      <td>1</td>\n",
       "    </tr>\n",
       "    <tr>\n",
       "      <th>4</th>\n",
       "      <td>25.01. 22:00</td>\n",
       "      <td>대한민국</td>\n",
       "      <td>0</td>\n",
       "      <td>1</td>\n",
       "      <td>0</td>\n",
       "      <td>-1</td>\n",
       "    </tr>\n",
       "  </tbody>\n",
       "</table>\n",
       "</div>"
      ],
      "text/plain": [
       "           경기날짜        팀  팀1점수  팀2점수  승패  점수차\n",
       "0  01.02. 23:00       일본     1     3   0   -2\n",
       "1  29.01. 23:00     카타르      4     0   2    4\n",
       "2  28.01. 23:00       이란     0     3   0   -3\n",
       "3  26.01. 01:00  아랍에미리트      1     0   2    1\n",
       "4  25.01. 22:00     대한민국     0     1   0   -1"
      ]
     },
     "execution_count": 3,
     "metadata": {},
     "output_type": "execute_result"
    }
   ],
   "source": [
    "# 아시안컵 19년도\n",
    "asian = pd.read_csv('./data/AsianCup19.csv')\n",
    "asian.head()"
   ]
  },
  {
   "cell_type": "code",
   "execution_count": 4,
   "metadata": {},
   "outputs": [
    {
     "data": {
      "text/plain": [
       "102"
      ]
     },
     "execution_count": 4,
     "metadata": {},
     "output_type": "execute_result"
    }
   ],
   "source": [
    "len(asian)"
   ]
  },
  {
   "cell_type": "code",
   "execution_count": 5,
   "metadata": {},
   "outputs": [
    {
     "data": {
      "text/plain": [
       "array(['일본', '카타르 ', '이란', '아랍에미리트 ', '대한민국', '중국', '베트남', '대한민국 ', '호주 ',\n",
       "       '일본 ', '이란 ', '태국', '요르단', '호주', '이라크', '바레인', '키르기스스탄', '우즈베키스탄',\n",
       "       '사우디아라비아', '오만', '중국 ', '베트남 ', '레바논', '팔레스타인', '아랍에미리트', '인도',\n",
       "       '투르크메니스탄', '북한 ', '예멘', '필리핀', '카타르', '우즈베키스탄 ', '시리아', '북한',\n",
       "       '팔레스타인 '], dtype=object)"
      ]
     },
     "execution_count": 5,
     "metadata": {},
     "output_type": "execute_result"
    }
   ],
   "source": [
    "asian['팀'].unique()"
   ]
  },
  {
   "cell_type": "code",
   "execution_count": 6,
   "metadata": {},
   "outputs": [
    {
     "name": "stdout",
     "output_type": "stream",
     "text": [
      "['일본', '카타르', '이란', '아랍에미리트', '대한민국', '중국', '베트남', '카타르', '대한민국', '아랍에미리트', '호주', '일본', '이란', '태국', '요르단', '카타르', '아랍에미리트', '일본', '호주', '카타르', '이란', '일본', '이라크', '바레인', '키르기스스탄', '우즈베키스탄', '사우디아라비아', '오만', '중국', '베트남', '레바논', '사우디아라비아', '오만', '일본', '베트남', '이란', '대한민국', '키르기스스탄', '팔레스타인', '호주', '아랍에미리트', '인도', '투르크메니스탄', '오만', '북한', '레바논', '예멘', '베트남', '키르기스스탄', '필리핀', '팔레스타인', '인도', '요르단', '바레인', '카타르', '우즈베키스탄', '일본', '사우디아라비아', '이라크', '이란', '대한민국', '중국', '시리아', '태국', '호주', '아랍에미리트', '북한', '카타르', '투르크메니스탄', '우즈베키스탄', '예멘', '이라크', '중국', '필리핀', '요르단', '시리아', '태국', '바레인', '우즈베키스탄', '일본', '카타르', '사우디아라비아', '이라크', '이란', '대한민국', '중국', '호주', '아랍에미리트', '시리아', '태국', '레바논', '오만', '투르크메니스탄', '북한', '베트남', '예멘', '필리핀', '키르기스스탄', '팔레스타인', '인도', '요르단', '바레인']\n"
     ]
    }
   ],
   "source": [
    "# asian 테이블에 국가 뒤에 공백있는거 제거\n",
    "names = []\n",
    "for i in asian['팀']:\n",
    "    names.append(i.strip())\n",
    "\n",
    "print(names)"
   ]
  },
  {
   "cell_type": "code",
   "execution_count": 7,
   "metadata": {},
   "outputs": [],
   "source": [
    "asian['팀'] = names"
   ]
  },
  {
   "cell_type": "code",
   "execution_count": 8,
   "metadata": {},
   "outputs": [
    {
     "data": {
      "text/html": [
       "<div>\n",
       "<style scoped>\n",
       "    .dataframe tbody tr th:only-of-type {\n",
       "        vertical-align: middle;\n",
       "    }\n",
       "\n",
       "    .dataframe tbody tr th {\n",
       "        vertical-align: top;\n",
       "    }\n",
       "\n",
       "    .dataframe thead th {\n",
       "        text-align: right;\n",
       "    }\n",
       "</style>\n",
       "<table border=\"1\" class=\"dataframe\">\n",
       "  <thead>\n",
       "    <tr style=\"text-align: right;\">\n",
       "      <th></th>\n",
       "      <th>랭킹</th>\n",
       "      <th>국가</th>\n",
       "    </tr>\n",
       "  </thead>\n",
       "  <tbody>\n",
       "    <tr>\n",
       "      <th>0</th>\n",
       "      <td>1</td>\n",
       "      <td>벨기에</td>\n",
       "    </tr>\n",
       "    <tr>\n",
       "      <th>1</th>\n",
       "      <td>2</td>\n",
       "      <td>프랑스</td>\n",
       "    </tr>\n",
       "    <tr>\n",
       "      <th>2</th>\n",
       "      <td>3</td>\n",
       "      <td>브라질</td>\n",
       "    </tr>\n",
       "    <tr>\n",
       "      <th>3</th>\n",
       "      <td>4</td>\n",
       "      <td>크로아티아</td>\n",
       "    </tr>\n",
       "    <tr>\n",
       "      <th>4</th>\n",
       "      <td>5</td>\n",
       "      <td>잉글랜드</td>\n",
       "    </tr>\n",
       "  </tbody>\n",
       "</table>\n",
       "</div>"
      ],
      "text/plain": [
       "   랭킹     국가\n",
       "0   1    벨기에\n",
       "1   2    프랑스\n",
       "2   3    브라질\n",
       "3   4  크로아티아\n",
       "4   5   잉글랜드"
      ]
     },
     "execution_count": 8,
     "metadata": {},
     "output_type": "execute_result"
    }
   ],
   "source": [
    "# 피파랭킹 19년도\n",
    "fifarank = pd.read_csv('./data/FIFARank.csv')\n",
    "fifarank = fifarank.drop(columns = ['점수'])\n",
    "fifarank.head()"
   ]
  },
  {
   "cell_type": "code",
   "execution_count": 9,
   "metadata": {},
   "outputs": [
    {
     "data": {
      "text/plain": [
       "array(['벨기에', '프랑스', '브라질', '크로아티아', '잉글랜드', '포르투갈', '우루과이', '스위스', '스페인',\n",
       "       '덴마크', '아르헨티나', '콜롬비아', '칠레', '스웨덴', '네덜란드', '독일', '멕시코', '이탈리아',\n",
       "       '웨일스', '폴란드', '페루', '오스트리아', '세네갈', '루마니아', '미국', '튀니지', '슬로바키아',\n",
       "       '우크라이나', '세르비아', '이란', '베네수엘라', '파라과이', '아일랜드', '보스니아 헤르체고비나',\n",
       "       '북아일랜드', '코스타리카', '아이슬란드', '스코틀랜드', '터키', '모로코', '호주', '체코', '그리스',\n",
       "       '나이지리아', '몬테네그로', '불가리아', '노르웨이', '러시아', '콩고민주공화국', '일본', '헝가리',\n",
       "       '가나', '한국', '자메이카', '카메룬', '이집트', '에콰도르', '핀란드', '볼리비아', '알바니아',\n",
       "       '부르키나파소', '슬로베니아', '온두라스', '말리', '코트디부아르', '기니', '알제리', '마케도니아',\n",
       "       '사우디아라비아', '엘살바도르', '파나마', '남아공', '카보베르데', '시리아', '우간다', '벨라루스',\n",
       "       '중국', '캐나다', '아랍에미리트', '퀴라소', '레바논', '오만', '잠비아', '콩고공화국', '가봉',\n",
       "       '룩셈부르크', '키프로스', '이라크', '조지아', '이스라엘', '키르기스스탄', '트리니다드 토바고',\n",
       "       '카타르', '베냉', '우즈베키스탄', '에스토니아', '인도', '페로 제도', '팔레스타인', '베트남',\n",
       "       '모리타니', '아르메니아', '아이티', '리비아', '케냐', '마다가스카르', '아제르바이잔', '니제르',\n",
       "       '북한', '요르단', '나미비아', '중앙아프리카', '바레인', '짐바브웨', '시에라리온', '필리핀',\n",
       "       '모잠비크', '태국', '카자흐스탄', '타지키스탄', '기니비사우', '뉴질랜드', '토고', '중국 대북',\n",
       "       '앙골라', '앤티가 바부다', '수단', '투르크메니스탄', '니카라과', '말라위', '코소보', '라트비아',\n",
       "       '안도라', '리투아니아', '예멘', '세인트키츠 네비스', '르완다', '탄자니아', '미얀마', '부룬디',\n",
       "       '중국 홍콩', '에스와티니', '코모로', '솔로몬 제도', '보츠와나', '레소토', '아프가니스탄',\n",
       "       '적도 기니', '과테말라', '라이베리아', '에티오피아', '몰디브', '수리남', '도미니카 공화국',\n",
       "       '뉴칼레도니아', '모리셔스', '타히티', '쿠웨이트', '인도네시아', '벨리즈', '네팔', '바베이도스',\n",
       "       '바누아투', '남수단', '싱가포르', '감비아', '말레이시아', '파푸아뉴기니', '피지', '몰도바',\n",
       "       '세인트루시아', '캄보디아', '그레나다', '쿠바', '차드', '버뮤다', '가이아나', '도미니카 연방',\n",
       "       '푸에르토리코', '세인트빈센트 그레나딘', '리히텐슈타인', '몰타', '중국 마카오', '라오스',\n",
       "       '상투메 프린시페', '부탄', '아루바', '몽골', '세이셸', '쿡 제도', '아메리칸 사모아', '괌',\n",
       "       '방글라데시', '지브롤터', '브루나이', '동티모르', '사모아', '지부티', '파키스탄', '몬트세랫',\n",
       "       '스리랑카', '미국령 버진아일랜드', '케이맨 제도', '통가', '에리트레아', '소말리아',\n",
       "       '영국령 버진아일랜드', '터크스 케이커스 제도', '앵귈라', '바하마', '산마리노'], dtype=object)"
      ]
     },
     "execution_count": 9,
     "metadata": {},
     "output_type": "execute_result"
    }
   ],
   "source": [
    "fifarank['국가'].unique()"
   ]
  },
  {
   "cell_type": "code",
   "execution_count": 10,
   "metadata": {},
   "outputs": [],
   "source": [
    "# 한국이라 되어있기 때문에 아시안컵 테이블에 있는 대한민국으로 바꿔주기\n",
    "fifarank.loc[fifarank['국가'] == '한국', '국가'] = '대한민국'"
   ]
  },
  {
   "cell_type": "code",
   "execution_count": 11,
   "metadata": {},
   "outputs": [
    {
     "data": {
      "text/html": [
       "<div>\n",
       "<style scoped>\n",
       "    .dataframe tbody tr th:only-of-type {\n",
       "        vertical-align: middle;\n",
       "    }\n",
       "\n",
       "    .dataframe tbody tr th {\n",
       "        vertical-align: top;\n",
       "    }\n",
       "\n",
       "    .dataframe thead th {\n",
       "        text-align: right;\n",
       "    }\n",
       "</style>\n",
       "<table border=\"1\" class=\"dataframe\">\n",
       "  <thead>\n",
       "    <tr style=\"text-align: right;\">\n",
       "      <th></th>\n",
       "      <th>경기날짜</th>\n",
       "      <th>팀</th>\n",
       "      <th>팀1점수</th>\n",
       "      <th>팀2점수</th>\n",
       "      <th>승패</th>\n",
       "      <th>점수차</th>\n",
       "      <th>랭킹</th>\n",
       "      <th>국가</th>\n",
       "    </tr>\n",
       "  </thead>\n",
       "  <tbody>\n",
       "    <tr>\n",
       "      <th>0</th>\n",
       "      <td>01.02. 23:00</td>\n",
       "      <td>일본</td>\n",
       "      <td>1</td>\n",
       "      <td>3</td>\n",
       "      <td>0</td>\n",
       "      <td>-2</td>\n",
       "      <td>50</td>\n",
       "      <td>일본</td>\n",
       "    </tr>\n",
       "    <tr>\n",
       "      <th>1</th>\n",
       "      <td>29.01. 23:00</td>\n",
       "      <td>카타르</td>\n",
       "      <td>4</td>\n",
       "      <td>0</td>\n",
       "      <td>2</td>\n",
       "      <td>4</td>\n",
       "      <td>93</td>\n",
       "      <td>카타르</td>\n",
       "    </tr>\n",
       "    <tr>\n",
       "      <th>2</th>\n",
       "      <td>28.01. 23:00</td>\n",
       "      <td>이란</td>\n",
       "      <td>0</td>\n",
       "      <td>3</td>\n",
       "      <td>0</td>\n",
       "      <td>-3</td>\n",
       "      <td>29</td>\n",
       "      <td>이란</td>\n",
       "    </tr>\n",
       "    <tr>\n",
       "      <th>3</th>\n",
       "      <td>26.01. 01:00</td>\n",
       "      <td>아랍에미리트</td>\n",
       "      <td>1</td>\n",
       "      <td>0</td>\n",
       "      <td>2</td>\n",
       "      <td>1</td>\n",
       "      <td>79</td>\n",
       "      <td>아랍에미리트</td>\n",
       "    </tr>\n",
       "    <tr>\n",
       "      <th>4</th>\n",
       "      <td>25.01. 22:00</td>\n",
       "      <td>대한민국</td>\n",
       "      <td>0</td>\n",
       "      <td>1</td>\n",
       "      <td>0</td>\n",
       "      <td>-1</td>\n",
       "      <td>53</td>\n",
       "      <td>대한민국</td>\n",
       "    </tr>\n",
       "  </tbody>\n",
       "</table>\n",
       "</div>"
      ],
      "text/plain": [
       "           경기날짜       팀  팀1점수  팀2점수  승패  점수차  랭킹      국가\n",
       "0  01.02. 23:00      일본     1     3   0   -2  50      일본\n",
       "1  29.01. 23:00     카타르     4     0   2    4  93     카타르\n",
       "2  28.01. 23:00      이란     0     3   0   -3  29      이란\n",
       "3  26.01. 01:00  아랍에미리트     1     0   2    1  79  아랍에미리트\n",
       "4  25.01. 22:00    대한민국     0     1   0   -1  53    대한민국"
      ]
     },
     "execution_count": 11,
     "metadata": {},
     "output_type": "execute_result"
    }
   ],
   "source": [
    "# 피파랭킹 추가하기\n",
    "tot_ver1 = pd.merge(asian, fifarank, left_on='팀', right_on='국가', how='left')\n",
    "tot_ver1.head()"
   ]
  },
  {
   "cell_type": "code",
   "execution_count": 12,
   "metadata": {},
   "outputs": [
    {
     "data": {
      "text/plain": [
       "경기날짜    0\n",
       "팀       0\n",
       "팀1점수    0\n",
       "팀2점수    0\n",
       "승패      0\n",
       "점수차     0\n",
       "랭킹      0\n",
       "국가      0\n",
       "dtype: int64"
      ]
     },
     "execution_count": 12,
     "metadata": {},
     "output_type": "execute_result"
    }
   ],
   "source": [
    "# null값 확인\n",
    "tot_ver1.isnull().sum()"
   ]
  },
  {
   "cell_type": "code",
   "execution_count": 13,
   "metadata": {},
   "outputs": [
    {
     "data": {
      "text/html": [
       "<div>\n",
       "<style scoped>\n",
       "    .dataframe tbody tr th:only-of-type {\n",
       "        vertical-align: middle;\n",
       "    }\n",
       "\n",
       "    .dataframe tbody tr th {\n",
       "        vertical-align: top;\n",
       "    }\n",
       "\n",
       "    .dataframe thead th {\n",
       "        text-align: right;\n",
       "    }\n",
       "</style>\n",
       "<table border=\"1\" class=\"dataframe\">\n",
       "  <thead>\n",
       "    <tr style=\"text-align: right;\">\n",
       "      <th></th>\n",
       "      <th>salary</th>\n",
       "    </tr>\n",
       "    <tr>\n",
       "      <th>nation</th>\n",
       "      <th></th>\n",
       "    </tr>\n",
       "  </thead>\n",
       "  <tbody>\n",
       "    <tr>\n",
       "      <th>Qatar</th>\n",
       "      <td>147021</td>\n",
       "    </tr>\n",
       "    <tr>\n",
       "      <th>U.A.E</th>\n",
       "      <td>606217</td>\n",
       "    </tr>\n",
       "    <tr>\n",
       "      <th>australia</th>\n",
       "      <td>2710055</td>\n",
       "    </tr>\n",
       "    <tr>\n",
       "      <th>bahrain</th>\n",
       "      <td>3933</td>\n",
       "    </tr>\n",
       "    <tr>\n",
       "      <th>china</th>\n",
       "      <td>326027</td>\n",
       "    </tr>\n",
       "  </tbody>\n",
       "</table>\n",
       "</div>"
      ],
      "text/plain": [
       "            salary\n",
       "nation            \n",
       "Qatar       147021\n",
       "U.A.E       606217\n",
       "australia  2710055\n",
       "bahrain       3933\n",
       "china       326027"
      ]
     },
     "execution_count": 13,
     "metadata": {},
     "output_type": "execute_result"
    }
   ],
   "source": [
    "# 연봉 합계 추가하기\n",
    "money = a.pivot_table('salary',index='nation', aggfunc=np.sum)\n",
    "money.head()"
   ]
  },
  {
   "cell_type": "code",
   "execution_count": 14,
   "metadata": {},
   "outputs": [
    {
     "data": {
      "text/html": [
       "<div>\n",
       "<style scoped>\n",
       "    .dataframe tbody tr th:only-of-type {\n",
       "        vertical-align: middle;\n",
       "    }\n",
       "\n",
       "    .dataframe tbody tr th {\n",
       "        vertical-align: top;\n",
       "    }\n",
       "\n",
       "    .dataframe thead th {\n",
       "        text-align: right;\n",
       "    }\n",
       "</style>\n",
       "<table border=\"1\" class=\"dataframe\">\n",
       "  <thead>\n",
       "    <tr style=\"text-align: right;\">\n",
       "      <th></th>\n",
       "      <th>nation</th>\n",
       "      <th>salary</th>\n",
       "    </tr>\n",
       "  </thead>\n",
       "  <tbody>\n",
       "    <tr>\n",
       "      <th>0</th>\n",
       "      <td>Qatar</td>\n",
       "      <td>147021</td>\n",
       "    </tr>\n",
       "    <tr>\n",
       "      <th>1</th>\n",
       "      <td>U.A.E</td>\n",
       "      <td>606217</td>\n",
       "    </tr>\n",
       "    <tr>\n",
       "      <th>2</th>\n",
       "      <td>australia</td>\n",
       "      <td>2710055</td>\n",
       "    </tr>\n",
       "    <tr>\n",
       "      <th>3</th>\n",
       "      <td>bahrain</td>\n",
       "      <td>3933</td>\n",
       "    </tr>\n",
       "    <tr>\n",
       "      <th>4</th>\n",
       "      <td>china</td>\n",
       "      <td>326027</td>\n",
       "    </tr>\n",
       "  </tbody>\n",
       "</table>\n",
       "</div>"
      ],
      "text/plain": [
       "      nation   salary\n",
       "0      Qatar   147021\n",
       "1      U.A.E   606217\n",
       "2  australia  2710055\n",
       "3    bahrain     3933\n",
       "4      china   326027"
      ]
     },
     "execution_count": 14,
     "metadata": {},
     "output_type": "execute_result"
    }
   ],
   "source": [
    "money = money.reset_index()\n",
    "money.head()"
   ]
  },
  {
   "cell_type": "code",
   "execution_count": 15,
   "metadata": {},
   "outputs": [
    {
     "data": {
      "text/plain": [
       "0            Qatar\n",
       "1            U.A.E\n",
       "2        australia\n",
       "3          bahrain\n",
       "4            china\n",
       "5            india\n",
       "6             iran\n",
       "7             iraq\n",
       "8            japan\n",
       "9            jemen\n",
       "10          jordan\n",
       "11      kyrgyzstan\n",
       "12         lebanon\n",
       "13     north-korea\n",
       "14            oman\n",
       "15       palastine\n",
       "16     philippines\n",
       "17    saudi-arabia\n",
       "18     south-korea\n",
       "19           syria\n",
       "20        thailand\n",
       "21    turkmenistan\n",
       "22      uzbekistan\n",
       "23         vietnam\n",
       "Name: nation, dtype: object"
      ]
     },
     "execution_count": 15,
     "metadata": {},
     "output_type": "execute_result"
    }
   ],
   "source": [
    "money['nation']"
   ]
  },
  {
   "cell_type": "code",
   "execution_count": 16,
   "metadata": {},
   "outputs": [
    {
     "data": {
      "text/plain": [
       "array(['일본', '카타르', '이란', '아랍에미리트', '대한민국', '중국', '베트남', '호주', '태국',\n",
       "       '요르단', '이라크', '바레인', '키르기스스탄', '우즈베키스탄', '사우디아라비아', '오만', '레바논',\n",
       "       '팔레스타인', '인도', '투르크메니스탄', '북한', '예멘', '필리핀', '시리아'], dtype=object)"
      ]
     },
     "execution_count": 16,
     "metadata": {},
     "output_type": "execute_result"
    }
   ],
   "source": [
    "tot_ver1['팀'].unique()"
   ]
  },
  {
   "cell_type": "code",
   "execution_count": 17,
   "metadata": {},
   "outputs": [],
   "source": [
    "# 수작업..\n",
    "money.loc[money['nation'] == 'Qatar', 'nation'] = '카타르'\n",
    "money.loc[money['nation'] == 'U.A.E', 'nation'] = '아랍에미리트'\n",
    "money.loc[money['nation'] == 'australia', 'nation'] = '호주'\n",
    "money.loc[money['nation'] == 'bahrain', 'nation'] = '바레인'\n",
    "money.loc[money['nation'] == 'china', 'nation'] = '중국'\n",
    "money.loc[money['nation'] == 'india', 'nation'] = '인도'\n",
    "\n",
    "money.loc[money['nation'] == 'iran', 'nation'] = '이란'\n",
    "money.loc[money['nation'] == 'iraq', 'nation'] = '이라크'\n",
    "money.loc[money['nation'] == 'japan', 'nation'] = '일본'\n",
    "money.loc[money['nation'] == 'jemen', 'nation'] = '예멘'\n",
    "\n",
    "money.loc[money['nation'] == 'jordan', 'nation'] = '요르단'\n",
    "money.loc[money['nation'] == 'kyrgyzstan', 'nation'] = '키르기스스탄'\n",
    "money.loc[money['nation'] == 'lebanon', 'nation'] = '레바논'\n",
    "money.loc[money['nation'] == 'north-korea', 'nation'] = '북한'\n",
    "\n",
    "money.loc[money['nation'] == 'oman', 'nation'] = '오만'\n",
    "money.loc[money['nation'] == 'palastine', 'nation'] = '팔레스타인'\n",
    "money.loc[money['nation'] == 'philippines', 'nation'] = '필리핀'\n",
    "\n",
    "money.loc[money['nation'] == 'saudi-arabia', 'nation'] = '사우디아라비아'\n",
    "money.loc[money['nation'] == 'south-korea', 'nation'] = '대한민국'\n",
    "money.loc[money['nation'] == 'syria', 'nation'] = '시리아'\n",
    "\n",
    "money.loc[money['nation'] == 'thailand', 'nation'] = '태국'\n",
    "money.loc[money['nation'] == 'turkmenistan', 'nation'] = '투르크메니스탄'\n",
    "money.loc[money['nation'] == 'uzbekistan', 'nation'] = '우즈베키스탄'\n",
    "money.loc[money['nation'] == 'vietnam', 'nation'] = '베트남'"
   ]
  },
  {
   "cell_type": "code",
   "execution_count": 18,
   "metadata": {},
   "outputs": [
    {
     "data": {
      "text/html": [
       "<div>\n",
       "<style scoped>\n",
       "    .dataframe tbody tr th:only-of-type {\n",
       "        vertical-align: middle;\n",
       "    }\n",
       "\n",
       "    .dataframe tbody tr th {\n",
       "        vertical-align: top;\n",
       "    }\n",
       "\n",
       "    .dataframe thead th {\n",
       "        text-align: right;\n",
       "    }\n",
       "</style>\n",
       "<table border=\"1\" class=\"dataframe\">\n",
       "  <thead>\n",
       "    <tr style=\"text-align: right;\">\n",
       "      <th></th>\n",
       "      <th>nation</th>\n",
       "      <th>salary</th>\n",
       "    </tr>\n",
       "  </thead>\n",
       "  <tbody>\n",
       "    <tr>\n",
       "      <th>0</th>\n",
       "      <td>카타르</td>\n",
       "      <td>147021</td>\n",
       "    </tr>\n",
       "    <tr>\n",
       "      <th>1</th>\n",
       "      <td>아랍에미리트</td>\n",
       "      <td>606217</td>\n",
       "    </tr>\n",
       "    <tr>\n",
       "      <th>2</th>\n",
       "      <td>호주</td>\n",
       "      <td>2710055</td>\n",
       "    </tr>\n",
       "    <tr>\n",
       "      <th>3</th>\n",
       "      <td>바레인</td>\n",
       "      <td>3933</td>\n",
       "    </tr>\n",
       "    <tr>\n",
       "      <th>4</th>\n",
       "      <td>중국</td>\n",
       "      <td>326027</td>\n",
       "    </tr>\n",
       "  </tbody>\n",
       "</table>\n",
       "</div>"
      ],
      "text/plain": [
       "   nation   salary\n",
       "0     카타르   147021\n",
       "1  아랍에미리트   606217\n",
       "2      호주  2710055\n",
       "3     바레인     3933\n",
       "4      중국   326027"
      ]
     },
     "execution_count": 18,
     "metadata": {},
     "output_type": "execute_result"
    }
   ],
   "source": [
    "# 연봉 단위는 '천원'임 (0 세개 뺀 값 -> 너무 단위가 커서)\n",
    "money.head()"
   ]
  },
  {
   "cell_type": "code",
   "execution_count": 19,
   "metadata": {},
   "outputs": [
    {
     "data": {
      "text/html": [
       "<div>\n",
       "<style scoped>\n",
       "    .dataframe tbody tr th:only-of-type {\n",
       "        vertical-align: middle;\n",
       "    }\n",
       "\n",
       "    .dataframe tbody tr th {\n",
       "        vertical-align: top;\n",
       "    }\n",
       "\n",
       "    .dataframe thead th {\n",
       "        text-align: right;\n",
       "    }\n",
       "</style>\n",
       "<table border=\"1\" class=\"dataframe\">\n",
       "  <thead>\n",
       "    <tr style=\"text-align: right;\">\n",
       "      <th></th>\n",
       "      <th>경기날짜</th>\n",
       "      <th>팀</th>\n",
       "      <th>팀1점수</th>\n",
       "      <th>팀2점수</th>\n",
       "      <th>승패</th>\n",
       "      <th>점수차</th>\n",
       "      <th>랭킹</th>\n",
       "    </tr>\n",
       "  </thead>\n",
       "  <tbody>\n",
       "    <tr>\n",
       "      <th>0</th>\n",
       "      <td>01.02. 23:00</td>\n",
       "      <td>일본</td>\n",
       "      <td>1</td>\n",
       "      <td>3</td>\n",
       "      <td>0</td>\n",
       "      <td>-2</td>\n",
       "      <td>50</td>\n",
       "    </tr>\n",
       "    <tr>\n",
       "      <th>1</th>\n",
       "      <td>29.01. 23:00</td>\n",
       "      <td>카타르</td>\n",
       "      <td>4</td>\n",
       "      <td>0</td>\n",
       "      <td>2</td>\n",
       "      <td>4</td>\n",
       "      <td>93</td>\n",
       "    </tr>\n",
       "    <tr>\n",
       "      <th>2</th>\n",
       "      <td>28.01. 23:00</td>\n",
       "      <td>이란</td>\n",
       "      <td>0</td>\n",
       "      <td>3</td>\n",
       "      <td>0</td>\n",
       "      <td>-3</td>\n",
       "      <td>29</td>\n",
       "    </tr>\n",
       "    <tr>\n",
       "      <th>3</th>\n",
       "      <td>26.01. 01:00</td>\n",
       "      <td>아랍에미리트</td>\n",
       "      <td>1</td>\n",
       "      <td>0</td>\n",
       "      <td>2</td>\n",
       "      <td>1</td>\n",
       "      <td>79</td>\n",
       "    </tr>\n",
       "    <tr>\n",
       "      <th>4</th>\n",
       "      <td>25.01. 22:00</td>\n",
       "      <td>대한민국</td>\n",
       "      <td>0</td>\n",
       "      <td>1</td>\n",
       "      <td>0</td>\n",
       "      <td>-1</td>\n",
       "      <td>53</td>\n",
       "    </tr>\n",
       "  </tbody>\n",
       "</table>\n",
       "</div>"
      ],
      "text/plain": [
       "           경기날짜       팀  팀1점수  팀2점수  승패  점수차  랭킹\n",
       "0  01.02. 23:00      일본     1     3   0   -2  50\n",
       "1  29.01. 23:00     카타르     4     0   2    4  93\n",
       "2  28.01. 23:00      이란     0     3   0   -3  29\n",
       "3  26.01. 01:00  아랍에미리트     1     0   2    1  79\n",
       "4  25.01. 22:00    대한민국     0     1   0   -1  53"
      ]
     },
     "execution_count": 19,
     "metadata": {},
     "output_type": "execute_result"
    }
   ],
   "source": [
    "# 나라이름 중복되는 컬럼 지우기\n",
    "tot_ver1 = tot_ver1.drop(columns=['국가'])\n",
    "tot_ver1.head()"
   ]
  },
  {
   "cell_type": "code",
   "execution_count": 20,
   "metadata": {},
   "outputs": [
    {
     "data": {
      "text/html": [
       "<div>\n",
       "<style scoped>\n",
       "    .dataframe tbody tr th:only-of-type {\n",
       "        vertical-align: middle;\n",
       "    }\n",
       "\n",
       "    .dataframe tbody tr th {\n",
       "        vertical-align: top;\n",
       "    }\n",
       "\n",
       "    .dataframe thead th {\n",
       "        text-align: right;\n",
       "    }\n",
       "</style>\n",
       "<table border=\"1\" class=\"dataframe\">\n",
       "  <thead>\n",
       "    <tr style=\"text-align: right;\">\n",
       "      <th></th>\n",
       "      <th>경기날짜</th>\n",
       "      <th>팀</th>\n",
       "      <th>팀1점수</th>\n",
       "      <th>팀2점수</th>\n",
       "      <th>승패</th>\n",
       "      <th>점수차</th>\n",
       "      <th>랭킹</th>\n",
       "      <th>salary</th>\n",
       "    </tr>\n",
       "  </thead>\n",
       "  <tbody>\n",
       "    <tr>\n",
       "      <th>0</th>\n",
       "      <td>01.02. 23:00</td>\n",
       "      <td>일본</td>\n",
       "      <td>1</td>\n",
       "      <td>3</td>\n",
       "      <td>0</td>\n",
       "      <td>-2</td>\n",
       "      <td>50</td>\n",
       "      <td>6934420</td>\n",
       "    </tr>\n",
       "    <tr>\n",
       "      <th>1</th>\n",
       "      <td>29.01. 23:00</td>\n",
       "      <td>카타르</td>\n",
       "      <td>4</td>\n",
       "      <td>0</td>\n",
       "      <td>2</td>\n",
       "      <td>4</td>\n",
       "      <td>93</td>\n",
       "      <td>147021</td>\n",
       "    </tr>\n",
       "    <tr>\n",
       "      <th>2</th>\n",
       "      <td>28.01. 23:00</td>\n",
       "      <td>이란</td>\n",
       "      <td>0</td>\n",
       "      <td>3</td>\n",
       "      <td>0</td>\n",
       "      <td>-3</td>\n",
       "      <td>29</td>\n",
       "      <td>4530110</td>\n",
       "    </tr>\n",
       "    <tr>\n",
       "      <th>3</th>\n",
       "      <td>26.01. 01:00</td>\n",
       "      <td>아랍에미리트</td>\n",
       "      <td>1</td>\n",
       "      <td>0</td>\n",
       "      <td>2</td>\n",
       "      <td>1</td>\n",
       "      <td>79</td>\n",
       "      <td>606217</td>\n",
       "    </tr>\n",
       "    <tr>\n",
       "      <th>4</th>\n",
       "      <td>25.01. 22:00</td>\n",
       "      <td>대한민국</td>\n",
       "      <td>0</td>\n",
       "      <td>1</td>\n",
       "      <td>0</td>\n",
       "      <td>-1</td>\n",
       "      <td>53</td>\n",
       "      <td>6038313</td>\n",
       "    </tr>\n",
       "  </tbody>\n",
       "</table>\n",
       "</div>"
      ],
      "text/plain": [
       "           경기날짜       팀  팀1점수  팀2점수  승패  점수차  랭킹   salary\n",
       "0  01.02. 23:00      일본     1     3   0   -2  50  6934420\n",
       "1  29.01. 23:00     카타르     4     0   2    4  93   147021\n",
       "2  28.01. 23:00      이란     0     3   0   -3  29  4530110\n",
       "3  26.01. 01:00  아랍에미리트     1     0   2    1  79   606217\n",
       "4  25.01. 22:00    대한민국     0     1   0   -1  53  6038313"
      ]
     },
     "execution_count": 20,
     "metadata": {},
     "output_type": "execute_result"
    }
   ],
   "source": [
    "# 합치기\n",
    "tot_ver2 = pd.merge(tot_ver1,money,left_on='팀', right_on='nation', how='left')\n",
    "tot_ver2 = tot_ver2.drop(columns=['nation'])\n",
    "tot_ver2.head()"
   ]
  },
  {
   "cell_type": "code",
   "execution_count": 21,
   "metadata": {},
   "outputs": [
    {
     "data": {
      "text/html": [
       "<div>\n",
       "<style scoped>\n",
       "    .dataframe tbody tr th:only-of-type {\n",
       "        vertical-align: middle;\n",
       "    }\n",
       "\n",
       "    .dataframe tbody tr th {\n",
       "        vertical-align: top;\n",
       "    }\n",
       "\n",
       "    .dataframe thead th {\n",
       "        text-align: right;\n",
       "    }\n",
       "</style>\n",
       "<table border=\"1\" class=\"dataframe\">\n",
       "  <thead>\n",
       "    <tr style=\"text-align: right;\">\n",
       "      <th></th>\n",
       "      <th>팀1점수</th>\n",
       "      <th>팀2점수</th>\n",
       "      <th>승패</th>\n",
       "      <th>점수차</th>\n",
       "      <th>랭킹</th>\n",
       "      <th>salary</th>\n",
       "    </tr>\n",
       "  </thead>\n",
       "  <tbody>\n",
       "    <tr>\n",
       "      <th>count</th>\n",
       "      <td>102.00000</td>\n",
       "      <td>102.00000</td>\n",
       "      <td>102.00000</td>\n",
       "      <td>102.00000</td>\n",
       "      <td>102.00000</td>\n",
       "      <td>102.00000</td>\n",
       "    </tr>\n",
       "    <tr>\n",
       "      <th>mean</th>\n",
       "      <td>1.29412</td>\n",
       "      <td>1.29412</td>\n",
       "      <td>1.00000</td>\n",
       "      <td>0.00000</td>\n",
       "      <td>84.04902</td>\n",
       "      <td>1409822.00980</td>\n",
       "    </tr>\n",
       "    <tr>\n",
       "      <th>std</th>\n",
       "      <td>1.33193</td>\n",
       "      <td>1.34671</td>\n",
       "      <td>0.95441</td>\n",
       "      <td>2.18908</td>\n",
       "      <td>27.17067</td>\n",
       "      <td>2215431.73144</td>\n",
       "    </tr>\n",
       "    <tr>\n",
       "      <th>min</th>\n",
       "      <td>0.00000</td>\n",
       "      <td>0.00000</td>\n",
       "      <td>0.00000</td>\n",
       "      <td>-6.00000</td>\n",
       "      <td>29.00000</td>\n",
       "      <td>1198.00000</td>\n",
       "    </tr>\n",
       "    <tr>\n",
       "      <th>25%</th>\n",
       "      <td>0.00000</td>\n",
       "      <td>0.00000</td>\n",
       "      <td>0.00000</td>\n",
       "      <td>-1.00000</td>\n",
       "      <td>69.00000</td>\n",
       "      <td>4683.00000</td>\n",
       "    </tr>\n",
       "    <tr>\n",
       "      <th>50%</th>\n",
       "      <td>1.00000</td>\n",
       "      <td>1.00000</td>\n",
       "      <td>1.00000</td>\n",
       "      <td>0.00000</td>\n",
       "      <td>88.00000</td>\n",
       "      <td>278006.00000</td>\n",
       "    </tr>\n",
       "    <tr>\n",
       "      <th>75%</th>\n",
       "      <td>2.00000</td>\n",
       "      <td>2.00000</td>\n",
       "      <td>2.00000</td>\n",
       "      <td>1.00000</td>\n",
       "      <td>100.00000</td>\n",
       "      <td>1416910.00000</td>\n",
       "    </tr>\n",
       "    <tr>\n",
       "      <th>max</th>\n",
       "      <td>6.00000</td>\n",
       "      <td>6.00000</td>\n",
       "      <td>2.00000</td>\n",
       "      <td>6.00000</td>\n",
       "      <td>135.00000</td>\n",
       "      <td>6934420.00000</td>\n",
       "    </tr>\n",
       "  </tbody>\n",
       "</table>\n",
       "</div>"
      ],
      "text/plain": [
       "           팀1점수      팀2점수        승패       점수차        랭킹        salary\n",
       "count 102.00000 102.00000 102.00000 102.00000 102.00000     102.00000\n",
       "mean    1.29412   1.29412   1.00000   0.00000  84.04902 1409822.00980\n",
       "std     1.33193   1.34671   0.95441   2.18908  27.17067 2215431.73144\n",
       "min     0.00000   0.00000   0.00000  -6.00000  29.00000    1198.00000\n",
       "25%     0.00000   0.00000   0.00000  -1.00000  69.00000    4683.00000\n",
       "50%     1.00000   1.00000   1.00000   0.00000  88.00000  278006.00000\n",
       "75%     2.00000   2.00000   2.00000   1.00000 100.00000 1416910.00000\n",
       "max     6.00000   6.00000   2.00000   6.00000 135.00000 6934420.00000"
      ]
     },
     "execution_count": 21,
     "metadata": {},
     "output_type": "execute_result"
    }
   ],
   "source": [
    "pd.set_option('display.float_format', '{:.5f}'.format) # 지수표현 없이 보는 것\n",
    "tot_ver2.describe()"
   ]
  },
  {
   "cell_type": "code",
   "execution_count": 22,
   "metadata": {},
   "outputs": [
    {
     "data": {
      "text/html": [
       "<div>\n",
       "<style scoped>\n",
       "    .dataframe tbody tr th:only-of-type {\n",
       "        vertical-align: middle;\n",
       "    }\n",
       "\n",
       "    .dataframe tbody tr th {\n",
       "        vertical-align: top;\n",
       "    }\n",
       "\n",
       "    .dataframe thead th {\n",
       "        text-align: right;\n",
       "    }\n",
       "</style>\n",
       "<table border=\"1\" class=\"dataframe\">\n",
       "  <thead>\n",
       "    <tr style=\"text-align: right;\">\n",
       "      <th></th>\n",
       "      <th>경기날짜</th>\n",
       "      <th>팀</th>\n",
       "      <th>승패</th>\n",
       "      <th>점수차</th>\n",
       "      <th>랭킹</th>\n",
       "      <th>salary</th>\n",
       "    </tr>\n",
       "  </thead>\n",
       "  <tbody>\n",
       "    <tr>\n",
       "      <th>0</th>\n",
       "      <td>01.02. 23:00</td>\n",
       "      <td>일본</td>\n",
       "      <td>0</td>\n",
       "      <td>-2</td>\n",
       "      <td>50</td>\n",
       "      <td>6934420</td>\n",
       "    </tr>\n",
       "    <tr>\n",
       "      <th>1</th>\n",
       "      <td>29.01. 23:00</td>\n",
       "      <td>카타르</td>\n",
       "      <td>2</td>\n",
       "      <td>4</td>\n",
       "      <td>93</td>\n",
       "      <td>147021</td>\n",
       "    </tr>\n",
       "    <tr>\n",
       "      <th>2</th>\n",
       "      <td>28.01. 23:00</td>\n",
       "      <td>이란</td>\n",
       "      <td>0</td>\n",
       "      <td>-3</td>\n",
       "      <td>29</td>\n",
       "      <td>4530110</td>\n",
       "    </tr>\n",
       "    <tr>\n",
       "      <th>3</th>\n",
       "      <td>26.01. 01:00</td>\n",
       "      <td>아랍에미리트</td>\n",
       "      <td>2</td>\n",
       "      <td>1</td>\n",
       "      <td>79</td>\n",
       "      <td>606217</td>\n",
       "    </tr>\n",
       "    <tr>\n",
       "      <th>4</th>\n",
       "      <td>25.01. 22:00</td>\n",
       "      <td>대한민국</td>\n",
       "      <td>0</td>\n",
       "      <td>-1</td>\n",
       "      <td>53</td>\n",
       "      <td>6038313</td>\n",
       "    </tr>\n",
       "  </tbody>\n",
       "</table>\n",
       "</div>"
      ],
      "text/plain": [
       "           경기날짜       팀  승패  점수차  랭킹   salary\n",
       "0  01.02. 23:00      일본   0   -2  50  6934420\n",
       "1  29.01. 23:00     카타르   2    4  93   147021\n",
       "2  28.01. 23:00      이란   0   -3  29  4530110\n",
       "3  26.01. 01:00  아랍에미리트   2    1  79   606217\n",
       "4  25.01. 22:00    대한민국   0   -1  53  6038313"
      ]
     },
     "execution_count": 22,
     "metadata": {},
     "output_type": "execute_result"
    }
   ],
   "source": [
    "tot_ver2 = tot_ver2.drop(columns=['팀1점수'])\n",
    "tot_ver2 = tot_ver2.drop(columns=['팀2점수'])\n",
    "tot_ver2.head()"
   ]
  },
  {
   "cell_type": "code",
   "execution_count": 23,
   "metadata": {},
   "outputs": [
    {
     "data": {
      "text/plain": [
       "count       102.00000\n",
       "mean    1409822.00980\n",
       "std     2215431.73144\n",
       "min        1198.00000\n",
       "25%        4683.00000\n",
       "50%      278006.00000\n",
       "75%     1416910.00000\n",
       "max     6934420.00000\n",
       "Name: salary, dtype: float64"
      ]
     },
     "execution_count": 23,
     "metadata": {},
     "output_type": "execute_result"
    }
   ],
   "source": [
    "tot_ver2['salary'].describe()"
   ]
  },
  {
   "cell_type": "code",
   "execution_count": 24,
   "metadata": {},
   "outputs": [
    {
     "data": {
      "text/plain": [
       "6934420    7\n",
       "147021     7\n",
       "606217     6\n",
       "4530110    6\n",
       "1198       5\n",
       "326027     5\n",
       "2710055    5\n",
       "6038313    5\n",
       "278006     4\n",
       "4395       4\n",
       "213108     4\n",
       "261933     4\n",
       "794071     4\n",
       "3933       4\n",
       "140402     4\n",
       "918900     4\n",
       "2887       3\n",
       "924076     3\n",
       "4683       3\n",
       "4141       3\n",
       "2072       3\n",
       "1726       3\n",
       "4840       3\n",
       "1581188    3\n",
       "Name: salary, dtype: int64"
      ]
     },
     "execution_count": 24,
     "metadata": {},
     "output_type": "execute_result"
    }
   ],
   "source": [
    "tot_ver2['salary'].value_counts()"
   ]
  },
  {
   "cell_type": "code",
   "execution_count": 25,
   "metadata": {},
   "outputs": [
    {
     "data": {
      "text/plain": [
       "array([ 50,  93,  29,  79,  53,  76, 100,  41, 118, 109,  88, 113,  91,\n",
       "        95,  69,  82,  81,  99,  97, 127, 135, 116,  74], dtype=int64)"
      ]
     },
     "execution_count": 25,
     "metadata": {},
     "output_type": "execute_result"
    }
   ],
   "source": [
    "tot_ver2['랭킹'].unique()"
   ]
  },
  {
   "cell_type": "code",
   "execution_count": 26,
   "metadata": {
    "scrolled": true
   },
   "outputs": [
    {
     "data": {
      "text/plain": [
       "0       50\n",
       "1       93\n",
       "2       29\n",
       "3       79\n",
       "4       53\n",
       "5       76\n",
       "6      100\n",
       "7       93\n",
       "8       53\n",
       "9       79\n",
       "10      41\n",
       "11      50\n",
       "12      29\n",
       "13     118\n",
       "14     109\n",
       "15      93\n",
       "16      79\n",
       "17      50\n",
       "18      41\n",
       "19      93\n",
       "20      29\n",
       "21      50\n",
       "22      88\n",
       "23     113\n",
       "24      91\n",
       "25      95\n",
       "26      69\n",
       "27      82\n",
       "28      76\n",
       "29     100\n",
       "      ... \n",
       "72      76\n",
       "73     116\n",
       "74     109\n",
       "75      74\n",
       "76     118\n",
       "77     113\n",
       "78      95\n",
       "79      50\n",
       "80      93\n",
       "81      69\n",
       "82      88\n",
       "83      29\n",
       "84      53\n",
       "85      76\n",
       "86      41\n",
       "87      79\n",
       "88      74\n",
       "89     118\n",
       "90      81\n",
       "91      82\n",
       "92     127\n",
       "93     109\n",
       "94     100\n",
       "95     135\n",
       "96     116\n",
       "97      91\n",
       "98      99\n",
       "99      97\n",
       "100    109\n",
       "101    113\n",
       "Name: 랭킹, Length: 102, dtype: int64"
      ]
     },
     "execution_count": 26,
     "metadata": {},
     "output_type": "execute_result"
    }
   ],
   "source": [
    "tot_ver2['랭킹']"
   ]
  },
  {
   "cell_type": "code",
   "execution_count": 27,
   "metadata": {},
   "outputs": [],
   "source": [
    "# 카테고리로 변경\n",
    "tot_ver2['랭킹'] = tot_ver2['랭킹'].astype('category')"
   ]
  },
  {
   "cell_type": "code",
   "execution_count": 28,
   "metadata": {},
   "outputs": [
    {
     "name": "stdout",
     "output_type": "stream",
     "text": [
      "<class 'pandas.core.frame.DataFrame'>\n",
      "Int64Index: 102 entries, 0 to 101\n",
      "Data columns (total 6 columns):\n",
      "경기날짜      102 non-null object\n",
      "팀         102 non-null object\n",
      "승패        102 non-null int64\n",
      "점수차       102 non-null int64\n",
      "랭킹        102 non-null category\n",
      "salary    102 non-null int64\n",
      "dtypes: category(1), int64(3), object(2)\n",
      "memory usage: 5.7+ KB\n"
     ]
    }
   ],
   "source": [
    "tot_ver2.info()"
   ]
  },
  {
   "cell_type": "code",
   "execution_count": 29,
   "metadata": {},
   "outputs": [],
   "source": [
    "# 원래 랭킹이 낮은 것 부터 1 ~ 23까지\n",
    "tot_ver2['랭킹'].cat.categories = ['%s'%i for i in range(1,24)]"
   ]
  },
  {
   "cell_type": "code",
   "execution_count": 30,
   "metadata": {},
   "outputs": [
    {
     "data": {
      "text/html": [
       "<div>\n",
       "<style scoped>\n",
       "    .dataframe tbody tr th:only-of-type {\n",
       "        vertical-align: middle;\n",
       "    }\n",
       "\n",
       "    .dataframe tbody tr th {\n",
       "        vertical-align: top;\n",
       "    }\n",
       "\n",
       "    .dataframe thead th {\n",
       "        text-align: right;\n",
       "    }\n",
       "</style>\n",
       "<table border=\"1\" class=\"dataframe\">\n",
       "  <thead>\n",
       "    <tr style=\"text-align: right;\">\n",
       "      <th></th>\n",
       "      <th>경기날짜</th>\n",
       "      <th>팀</th>\n",
       "      <th>승패</th>\n",
       "      <th>점수차</th>\n",
       "      <th>랭킹</th>\n",
       "      <th>salary</th>\n",
       "    </tr>\n",
       "  </thead>\n",
       "  <tbody>\n",
       "    <tr>\n",
       "      <th>0</th>\n",
       "      <td>01.02. 23:00</td>\n",
       "      <td>일본</td>\n",
       "      <td>0</td>\n",
       "      <td>-2</td>\n",
       "      <td>3</td>\n",
       "      <td>6934420</td>\n",
       "    </tr>\n",
       "    <tr>\n",
       "      <th>1</th>\n",
       "      <td>29.01. 23:00</td>\n",
       "      <td>카타르</td>\n",
       "      <td>2</td>\n",
       "      <td>4</td>\n",
       "      <td>13</td>\n",
       "      <td>147021</td>\n",
       "    </tr>\n",
       "    <tr>\n",
       "      <th>2</th>\n",
       "      <td>28.01. 23:00</td>\n",
       "      <td>이란</td>\n",
       "      <td>0</td>\n",
       "      <td>-3</td>\n",
       "      <td>1</td>\n",
       "      <td>4530110</td>\n",
       "    </tr>\n",
       "    <tr>\n",
       "      <th>3</th>\n",
       "      <td>26.01. 01:00</td>\n",
       "      <td>아랍에미리트</td>\n",
       "      <td>2</td>\n",
       "      <td>1</td>\n",
       "      <td>8</td>\n",
       "      <td>606217</td>\n",
       "    </tr>\n",
       "    <tr>\n",
       "      <th>4</th>\n",
       "      <td>25.01. 22:00</td>\n",
       "      <td>대한민국</td>\n",
       "      <td>0</td>\n",
       "      <td>-1</td>\n",
       "      <td>4</td>\n",
       "      <td>6038313</td>\n",
       "    </tr>\n",
       "  </tbody>\n",
       "</table>\n",
       "</div>"
      ],
      "text/plain": [
       "           경기날짜       팀  승패  점수차  랭킹   salary\n",
       "0  01.02. 23:00      일본   0   -2   3  6934420\n",
       "1  29.01. 23:00     카타르   2    4  13   147021\n",
       "2  28.01. 23:00      이란   0   -3   1  4530110\n",
       "3  26.01. 01:00  아랍에미리트   2    1   8   606217\n",
       "4  25.01. 22:00    대한민국   0   -1   4  6038313"
      ]
     },
     "execution_count": 30,
     "metadata": {},
     "output_type": "execute_result"
    }
   ],
   "source": [
    "tot_ver2.head()"
   ]
  },
  {
   "cell_type": "code",
   "execution_count": 31,
   "metadata": {},
   "outputs": [
    {
     "data": {
      "text/plain": [
       "array([6934420,  147021, 4530110,  606217, 6038313,  326027,    1198,\n",
       "       2710055,  140402,  261933,  213108,    3933,  278006,  918900,\n",
       "        794071,    4395,    4683,    2887,    2072,    4141,  924076,\n",
       "          1726,    4840, 1581188], dtype=int64)"
      ]
     },
     "execution_count": 31,
     "metadata": {},
     "output_type": "execute_result"
    }
   ],
   "source": [
    "tot_ver2['salary'].unique()"
   ]
  },
  {
   "cell_type": "markdown",
   "metadata": {},
   "source": [
    "## * 각 칼럼의 값이 낮을 수록 팀에 유리하다고 가정하고 데이터 변형 -\n",
    "==> 랭킹 1위는 숫자상으로 가장 낮은 값이지만 가장 유리하다. -> 모든칼럼적용"
   ]
  },
  {
   "cell_type": "code",
   "execution_count": 32,
   "metadata": {},
   "outputs": [],
   "source": [
    "# 승패 데이터 변경"
   ]
  }
 ],
 "metadata": {
  "kernelspec": {
   "display_name": "Python 3",
   "language": "python",
   "name": "python3"
  },
  "language_info": {
   "codemirror_mode": {
    "name": "ipython",
    "version": 3
   },
   "file_extension": ".py",
   "mimetype": "text/x-python",
   "name": "python",
   "nbconvert_exporter": "python",
   "pygments_lexer": "ipython3",
   "version": "3.7.2"
  }
 },
 "nbformat": 4,
 "nbformat_minor": 2
}
