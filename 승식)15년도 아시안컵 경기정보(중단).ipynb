{
 "cells": [
  {
   "cell_type": "code",
   "execution_count": 1,
   "metadata": {},
   "outputs": [],
   "source": [
    "import pandas as pd\n",
    "import numpy as np"
   ]
  },
  {
   "cell_type": "code",
   "execution_count": 13,
   "metadata": {},
   "outputs": [
    {
     "ename": "TypeError",
     "evalue": "cannot concatenate object of type \"<class 'str'>\"; only pd.Series, pd.DataFrame, and pd.Panel (deprecated) objs are valid",
     "output_type": "error",
     "traceback": [
      "\u001b[1;31m---------------------------------------------------------------------------\u001b[0m",
      "\u001b[1;31mTypeError\u001b[0m                                 Traceback (most recent call last)",
      "\u001b[1;32m<ipython-input-13-18d4bed3e613>\u001b[0m in \u001b[0;36m<module>\u001b[1;34m\u001b[0m\n\u001b[0;32m      2\u001b[0m \u001b[0maa\u001b[0m \u001b[1;33m=\u001b[0m \u001b[0mpd\u001b[0m\u001b[1;33m.\u001b[0m\u001b[0mSeries\u001b[0m\u001b[1;33m(\u001b[0m\u001b[0ma\u001b[0m\u001b[1;33m)\u001b[0m\u001b[1;33m\u001b[0m\u001b[1;33m\u001b[0m\u001b[0m\n\u001b[0;32m      3\u001b[0m \u001b[0maa\u001b[0m \u001b[1;33m=\u001b[0m \u001b[0maa\u001b[0m\u001b[1;33m.\u001b[0m\u001b[0mastype\u001b[0m\u001b[1;33m(\u001b[0m\u001b[1;34m'category'\u001b[0m\u001b[1;33m)\u001b[0m\u001b[1;33m\u001b[0m\u001b[1;33m\u001b[0m\u001b[0m\n\u001b[1;32m----> 4\u001b[1;33m \u001b[0maa\u001b[0m\u001b[1;33m.\u001b[0m\u001b[0mappend\u001b[0m\u001b[1;33m(\u001b[0m\u001b[1;34m'3'\u001b[0m\u001b[1;33m)\u001b[0m\u001b[1;33m\u001b[0m\u001b[1;33m\u001b[0m\u001b[0m\n\u001b[0m",
      "\u001b[1;32m~\\Anaconda3\\lib\\site-packages\\pandas\\core\\series.py\u001b[0m in \u001b[0;36mappend\u001b[1;34m(self, to_append, ignore_index, verify_integrity)\u001b[0m\n\u001b[0;32m   2154\u001b[0m             \u001b[0mto_concat\u001b[0m \u001b[1;33m=\u001b[0m \u001b[1;33m[\u001b[0m\u001b[0mself\u001b[0m\u001b[1;33m,\u001b[0m \u001b[0mto_append\u001b[0m\u001b[1;33m]\u001b[0m\u001b[1;33m\u001b[0m\u001b[1;33m\u001b[0m\u001b[0m\n\u001b[0;32m   2155\u001b[0m         return concat(to_concat, ignore_index=ignore_index,\n\u001b[1;32m-> 2156\u001b[1;33m                       verify_integrity=verify_integrity)\n\u001b[0m\u001b[0;32m   2157\u001b[0m \u001b[1;33m\u001b[0m\u001b[0m\n\u001b[0;32m   2158\u001b[0m     \u001b[1;32mdef\u001b[0m \u001b[0m_binop\u001b[0m\u001b[1;33m(\u001b[0m\u001b[0mself\u001b[0m\u001b[1;33m,\u001b[0m \u001b[0mother\u001b[0m\u001b[1;33m,\u001b[0m \u001b[0mfunc\u001b[0m\u001b[1;33m,\u001b[0m \u001b[0mlevel\u001b[0m\u001b[1;33m=\u001b[0m\u001b[1;32mNone\u001b[0m\u001b[1;33m,\u001b[0m \u001b[0mfill_value\u001b[0m\u001b[1;33m=\u001b[0m\u001b[1;32mNone\u001b[0m\u001b[1;33m)\u001b[0m\u001b[1;33m:\u001b[0m\u001b[1;33m\u001b[0m\u001b[1;33m\u001b[0m\u001b[0m\n",
      "\u001b[1;32m~\\Anaconda3\\lib\\site-packages\\pandas\\core\\reshape\\concat.py\u001b[0m in \u001b[0;36mconcat\u001b[1;34m(objs, axis, join, join_axes, ignore_index, keys, levels, names, verify_integrity, sort, copy)\u001b[0m\n\u001b[0;32m    223\u001b[0m                        \u001b[0mkeys\u001b[0m\u001b[1;33m=\u001b[0m\u001b[0mkeys\u001b[0m\u001b[1;33m,\u001b[0m \u001b[0mlevels\u001b[0m\u001b[1;33m=\u001b[0m\u001b[0mlevels\u001b[0m\u001b[1;33m,\u001b[0m \u001b[0mnames\u001b[0m\u001b[1;33m=\u001b[0m\u001b[0mnames\u001b[0m\u001b[1;33m,\u001b[0m\u001b[1;33m\u001b[0m\u001b[1;33m\u001b[0m\u001b[0m\n\u001b[0;32m    224\u001b[0m                        \u001b[0mverify_integrity\u001b[0m\u001b[1;33m=\u001b[0m\u001b[0mverify_integrity\u001b[0m\u001b[1;33m,\u001b[0m\u001b[1;33m\u001b[0m\u001b[1;33m\u001b[0m\u001b[0m\n\u001b[1;32m--> 225\u001b[1;33m                        copy=copy, sort=sort)\n\u001b[0m\u001b[0;32m    226\u001b[0m     \u001b[1;32mreturn\u001b[0m \u001b[0mop\u001b[0m\u001b[1;33m.\u001b[0m\u001b[0mget_result\u001b[0m\u001b[1;33m(\u001b[0m\u001b[1;33m)\u001b[0m\u001b[1;33m\u001b[0m\u001b[1;33m\u001b[0m\u001b[0m\n\u001b[0;32m    227\u001b[0m \u001b[1;33m\u001b[0m\u001b[0m\n",
      "\u001b[1;32m~\\Anaconda3\\lib\\site-packages\\pandas\\core\\reshape\\concat.py\u001b[0m in \u001b[0;36m__init__\u001b[1;34m(self, objs, axis, join, join_axes, keys, levels, names, ignore_index, verify_integrity, copy, sort)\u001b[0m\n\u001b[0;32m    284\u001b[0m                        \u001b[1;34m' only pd.Series, pd.DataFrame, and pd.Panel'\u001b[0m\u001b[1;33m\u001b[0m\u001b[1;33m\u001b[0m\u001b[0m\n\u001b[0;32m    285\u001b[0m                        ' (deprecated) objs are valid'.format(type(obj)))\n\u001b[1;32m--> 286\u001b[1;33m                 \u001b[1;32mraise\u001b[0m \u001b[0mTypeError\u001b[0m\u001b[1;33m(\u001b[0m\u001b[0mmsg\u001b[0m\u001b[1;33m)\u001b[0m\u001b[1;33m\u001b[0m\u001b[1;33m\u001b[0m\u001b[0m\n\u001b[0m\u001b[0;32m    287\u001b[0m \u001b[1;33m\u001b[0m\u001b[0m\n\u001b[0;32m    288\u001b[0m             \u001b[1;31m# consolidate\u001b[0m\u001b[1;33m\u001b[0m\u001b[1;33m\u001b[0m\u001b[1;33m\u001b[0m\u001b[0m\n",
      "\u001b[1;31mTypeError\u001b[0m: cannot concatenate object of type \"<class 'str'>\"; only pd.Series, pd.DataFrame, and pd.Panel (deprecated) objs are valid"
     ]
    }
   ],
   "source": [
    "a = ['1','2']\n",
    "aa = pd.Series(a)\n",
    "aa = aa.astype('category')\n",
    "aa.append('3')\n"
   ]
  },
  {
   "cell_type": "code",
   "execution_count": 12,
   "metadata": {},
   "outputs": [
    {
     "name": "stdout",
     "output_type": "stream",
     "text": [
      "숫자입력: 1\n",
      "숫자입력: 2\n"
     ]
    },
    {
     "data": {
      "text/plain": [
       "[1, 2]"
      ]
     },
     "execution_count": 12,
     "metadata": {},
     "output_type": "execute_result"
    }
   ],
   "source": [
    "aa = input(\"숫자입력: \")\n",
    "bb = input(\"숫자입력: \")\n",
    "list1 = []\n",
    "aa = int(aa)\n",
    "bb = int(bb)\n",
    "list1.append(aa)\n",
    "list1.append(bb)\n",
    "list1"
   ]
  },
  {
   "cell_type": "code",
   "execution_count": 2,
   "metadata": {},
   "outputs": [],
   "source": [
    "from bs4 import BeautifulSoup\n",
    "from selenium import webdriver\n",
    "from urllib.request import urlopen\n",
    "import time"
   ]
  },
  {
   "cell_type": "code",
   "execution_count": 3,
   "metadata": {},
   "outputs": [],
   "source": [
    "# # selenium 안쓰고 req로 가져오려니까 못가져옴 .. 모르겠..\n",
    "driver = webdriver.Chrome('./chromedriver.exe')\n",
    "driver.get('https://www.scoreboard.com/kr/soccer/asia/asian-cup-2015/results/') # 새창이 하나 뜰 것\n"
   ]
  },
  {
   "cell_type": "code",
   "execution_count": null,
   "metadata": {},
   "outputs": [],
   "source": [
    "html = driver.page_source\n",
    "soup = BeautifulSoup(html, 'html.parser')"
   ]
  },
  {
   "cell_type": "code",
   "execution_count": null,
   "metadata": {},
   "outputs": [],
   "source": [
    "# 해당 테이블의 id값들은 soup로 뽑아오기\n",
    "table_1 = soup.select('#fs-results > table:nth-child(1) > tbody > tr ')\n",
    "tmp = []\n",
    "for i in table_1:\n",
    "    try:\n",
    "        tmp.append(i.attrs['id'])\n",
    "    except KeyError:\n",
    "        continue"
   ]
  },
  {
   "cell_type": "code",
   "execution_count": null,
   "metadata": {},
   "outputs": [],
   "source": [
    "tmp"
   ]
  },
  {
   "cell_type": "code",
   "execution_count": null,
   "metadata": {},
   "outputs": [],
   "source": [
    "priod = []\n",
    "left_team = []\n",
    "right_team = []\n",
    "score = []\n",
    "\n",
    "for i in tmp:\n",
    "\n",
    "    a = driver.find_element_by_xpath('//*[@id=\"%s\"]/td[2]'%i).text # 각 xpath에 id 부분을 위에서 추출한 id값을 넣어주면 됨\n",
    "    b = driver.find_element_by_xpath('//*[@id=\"%s\"]/td[3]/span'%i).text\n",
    "    c = driver.find_element_by_xpath('//*[@id=\"%s\"]/td[4]/span'%i).text\n",
    "    d = driver.find_element_by_xpath('//*[@id=\"%s\"]/td[5]'%i).text\n",
    "    \n",
    "    priod.append(a)\n",
    "    left_team.append(b)\n",
    "    right_team.append(c)\n",
    "    score.append(d)\n"
   ]
  },
  {
   "cell_type": "code",
   "execution_count": null,
   "metadata": {},
   "outputs": [],
   "source": [
    "left_team"
   ]
  },
  {
   "cell_type": "code",
   "execution_count": null,
   "metadata": {},
   "outputs": [],
   "source": [
    "# g_1_ 부분 없애기\n",
    "lists = []\n",
    "for i in tmp:\n",
    "    lists.append(i.split('g_1_')[1])\n",
    "\n",
    "print(lists)"
   ]
  },
  {
   "cell_type": "code",
   "execution_count": null,
   "metadata": {},
   "outputs": [],
   "source": [
    "number1=[]\n",
    "number2=[]\n",
    "number3=[]\n",
    "number4=[]\n",
    "number5=[]\n",
    "number6=[]\n",
    "number7=[]\n",
    "number8=[]\n",
    "number9=[]\n",
    "number10=[]\n",
    "number11=[]\n",
    "\n",
    "for i in lists:\n",
    "    url_base = 'https://www.scoreboard.com/kr/match/'\n",
    "    url_sub = i+'/#match-summary|match-statistics;0|lineups;1'\n",
    "    driver.get(url_base + url_sub)\n",
    "    \n",
    "    time.sleep(3)\n",
    "    \n",
    "    html = driver.page_source\n",
    "    soup = BeautifulSoup(html,'html.parser')\n",
    "    \n",
    "    a = soup.select('#tab-statistics-0-statistic > table > tbody > tr ')\n",
    "    nation_check = soup.select('#flashscore_column > table > tbody > tr ')\n",
    "    \n",
    "    for i in nation_check:\n",
    "        print(i.get_text())\n",
    "\n",
    "    counts = 0\n",
    "    for i in a:\n",
    "        tm = i.get_text()\n",
    "        counts += 1\n",
    "        Str = \"\"\n",
    "\n",
    "        if counts == 1:\n",
    "            number1.append(Str+tm)\n",
    "\n",
    "        if counts == 2:\n",
    "            number2.append(Str+tm)\n",
    "\n",
    "        if counts == 3:\n",
    "            number3.append(Str+tm)\n",
    "\n",
    "        if counts == 4:\n",
    "            number4.append(Str+tm)\n",
    "\n",
    "        if counts == 5:\n",
    "            number5.append(Str+tm)\n",
    "\n",
    "        if counts == 6:\n",
    "            number6.append(Str+tm)\n",
    "\n",
    "        if counts == 7:\n",
    "            number7.append(Str+tm)\n",
    "\n",
    "        if counts == 8:\n",
    "            number8.append(Str+tm)\n",
    "\n",
    "        if counts == 9:\n",
    "            number9.append(Str+tm)\n",
    "\n",
    "        if counts == 10:\n",
    "            check = list(Str+tm)\n",
    "            for j in check:\n",
    "                if j == '경':\n",
    "                    number10.append(Str+tm)\n",
    "                if j == '퇴':\n",
    "                    number11.append(Str+tm)\n",
    "\n",
    "        if counts == 11:\n",
    "            check = list(Str+tm)\n",
    "            for j in check:\n",
    "                if j == '경':\n",
    "                    number10.append(Str+tm)\n",
    "                if j == '퇴':\n",
    "                    number11.append(Str+tm)\n"
   ]
  },
  {
   "cell_type": "code",
   "execution_count": null,
   "metadata": {},
   "outputs": [],
   "source": [
    "number1"
   ]
  },
  {
   "cell_type": "code",
   "execution_count": null,
   "metadata": {},
   "outputs": [],
   "source": [
    "z1 = 0\n",
    "count1 = 0\n",
    "for i in number1:\n",
    "    z1+=1\n",
    "    if i == '':\n",
    "        count1 += 1\n",
    "        \n",
    "print(str(number1))\n",
    "print('-'*20)\n",
    "print('Row Count :', count1)"
   ]
  },
  {
   "cell_type": "code",
   "execution_count": null,
   "metadata": {},
   "outputs": [],
   "source": [
    "driver.get('https://www.scoreboard.com/kr/soccer/asia/asian-cup-2015/results/') # 새창이 하나 뜰 것\n",
    "html = driver.page_source\n",
    "soup = BeautifulSoup(html, 'html.parser')\n"
   ]
  },
  {
   "cell_type": "code",
   "execution_count": null,
   "metadata": {},
   "outputs": [],
   "source": [
    "# 해당 테이블의 id값들은 soup로 뽑아오기\n",
    "table_1 = soup.select('#fs-results > table:nth-child(2) > tbody > tr ')\n",
    "tmp = []\n",
    "for i in table_1:\n",
    "    tmp.append(i.attrs['id'])\n",
    "    "
   ]
  },
  {
   "cell_type": "code",
   "execution_count": null,
   "metadata": {},
   "outputs": [],
   "source": [
    "priod = []\n",
    "left_team = []\n",
    "right_team = []\n",
    "score = []\n",
    "\n",
    "for i in tmp:\n",
    "\n",
    "    a = driver.find_element_by_xpath('//*[@id=\"%s\"]/td[2]'%i).text # 각 xpath에 id 부분을 위에서 추출한 id값을 넣어주면 됨\n",
    "    b = driver.find_element_by_xpath('//*[@id=\"%s\"]/td[3]/span'%i).text\n",
    "    c = driver.find_element_by_xpath('//*[@id=\"%s\"]/td[4]/span'%i).text\n",
    "    d = driver.find_element_by_xpath('//*[@id=\"%s\"]/td[5]'%i).text\n",
    "    \n",
    "    priod.append(a)\n",
    "    left_team.append(b)\n",
    "    right_team.append(c)\n",
    "    score.append(d)\n"
   ]
  },
  {
   "cell_type": "code",
   "execution_count": null,
   "metadata": {},
   "outputs": [],
   "source": [
    "# df= pd.DataFrame({'priod':priod,'left_team':left_team,'right_team':right_team,'score':score})\n",
    "# df.head()\n",
    "    "
   ]
  },
  {
   "cell_type": "code",
   "execution_count": null,
   "metadata": {},
   "outputs": [],
   "source": [
    "# 해당 경기 상세 페이지로 넘어가는 url이 이렇게 나오는데 'g_1_' 이 부분은 없어야함. \n",
    "# https://www.scoreboard.com/kr/match/iraq-palestine-2015/ET1WUDUF/#match-summary|match-statistics;0|lineups;1\n",
    "# https://www.scoreboard.com/kr/match/ET1WUDUF/#match-summary|match-statistics;0|lineups;1 그리고 위랑 아래랑 같음 -> 국가 이름 빼도 됨\n",
    "\n",
    "# g_1_ 부분 없애기\n",
    "# 본선 경기 id 데이터임\n",
    "lists = []\n",
    "for i in tmp:\n",
    "    lists.append(i.split('g_1_')[1])\n",
    "\n",
    "print(lists)"
   ]
  },
  {
   "cell_type": "code",
   "execution_count": null,
   "metadata": {},
   "outputs": [],
   "source": [
    "number1=[]\n",
    "number2=[]\n",
    "number3=[]\n",
    "number4=[]\n",
    "number5=[]\n",
    "number6=[]\n",
    "number7=[]\n",
    "number8=[]\n",
    "number9=[]\n",
    "number10=[]\n",
    "number11=[]\n",
    "\n",
    "for i in lists:\n",
    "    url_base = 'https://www.scoreboard.com/kr/match/'\n",
    "    url_sub = i+'/#match-summary|match-statistics;0|lineups;1'\n",
    "    driver.get(url_base + url_sub)\n",
    "    \n",
    "    time.sleep(2)\n",
    "    \n",
    "    html = driver.page_source\n",
    "    soup = BeautifulSoup(html,'html.parser')\n",
    "    \n",
    "    a = soup.select('#tab-statistics-0-statistic > table > tbody > tr ')\n",
    "    nation_check = soup.select('#flashscore_column > table > tbody > tr ')\n",
    "    \n",
    "    for i in nation_check:\n",
    "        print(i.get_text())\n",
    "\n",
    "    counts = 0\n",
    "    for i in a:\n",
    "        tm = i.get_text()\n",
    "        counts += 1\n",
    "\n",
    "        if counts == 1:\n",
    "            number1.append(tm)\n",
    "\n",
    "        if counts == 2:\n",
    "            number2.append(tm)\n",
    "\n",
    "        if counts == 3:\n",
    "            number3.append(tm)\n",
    "\n",
    "        if counts == 4:\n",
    "            number4.append(tm)\n",
    "\n",
    "        if counts == 5:\n",
    "            number5.append(tm)\n",
    "\n",
    "        if counts == 6:\n",
    "            number6.append(tm)\n",
    "\n",
    "        if counts == 7:\n",
    "            number7.append(tm)\n",
    "\n",
    "        if counts == 8:\n",
    "            number8.append(tm)\n",
    "\n",
    "        if counts == 9:\n",
    "            number9.append(tm)\n",
    "\n",
    "        if counts == 10:\n",
    "            check = list(tm)\n",
    "            for j in check:\n",
    "                if j == '경':\n",
    "                    number10.append(tm)\n",
    "                elif j == '퇴':\n",
    "                    number11.append(tm)\n",
    "\n",
    "        if counts == 11:\n",
    "            check = list(tm)\n",
    "            for j in check:\n",
    "                if j == '경':\n",
    "                    number10.append(tm)\n",
    "                elif j == '퇴':\n",
    "                    number11.append(tm)\n"
   ]
  },
  {
   "cell_type": "code",
   "execution_count": null,
   "metadata": {},
   "outputs": [],
   "source": [
    "# 유해사이트로 막히는 거 빼면 다 가져왔을 듯?"
   ]
  },
  {
   "cell_type": "code",
   "execution_count": null,
   "metadata": {},
   "outputs": [],
   "source": []
  }
 ],
 "metadata": {
  "kernelspec": {
   "display_name": "Python 3",
   "language": "python",
   "name": "python3"
  },
  "language_info": {
   "codemirror_mode": {
    "name": "ipython",
    "version": 3
   },
   "file_extension": ".py",
   "mimetype": "text/x-python",
   "name": "python",
   "nbconvert_exporter": "python",
   "pygments_lexer": "ipython3",
   "version": "3.7.2"
  }
 },
 "nbformat": 4,
 "nbformat_minor": 2
}
